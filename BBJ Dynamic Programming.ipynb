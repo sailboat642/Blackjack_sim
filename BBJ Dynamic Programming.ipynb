{
 "cells": [
  {
   "cell_type": "code",
   "execution_count": 1,
   "metadata": {},
   "outputs": [],
   "source": [
    "import numpy as np\n",
    "import random"
   ]
  },
  {
   "cell_type": "markdown",
   "metadata": {},
   "source": [
    "# Basic Blackjack Strategy Function\n",
    "\n",
    "### Not using this for the Monte-carlo Evaluation"
   ]
  },
  {
   "cell_type": "code",
   "execution_count": 4,
   "metadata": {},
   "outputs": [
    {
     "data": {
      "text/plain": [
       "'Hit'"
      ]
     },
     "execution_count": 4,
     "metadata": {},
     "output_type": "execute_result"
    }
   ],
   "source": [
    "BlackJackStrategy([6,5], 1)"
   ]
  },
  {
   "cell_type": "markdown",
   "metadata": {},
   "source": [
    "# Value Function\n",
    "3 dimensional array, where first index is \\[cardsum(12 to 21) - 12\\] (_for indexing_); second index is 0 if no usable ace and 1 if any; third index is dealer card \\[(1 to 10)-1\\](_for indexing_)."
   ]
  },
  {
   "cell_type": "code",
   "execution_count": 2,
   "metadata": {},
   "outputs": [],
   "source": [
    "V = np.array([[[0.]*10]*2]*10)"
   ]
  },
  {
   "cell_type": "code",
   "execution_count": 3,
   "metadata": {},
   "outputs": [
    {
     "data": {
      "text/plain": [
       "array([[[0., 0., 0., 0., 0., 0., 0., 0., 0., 0.],\n",
       "        [0., 0., 0., 0., 0., 0., 0., 0., 0., 0.]],\n",
       "\n",
       "       [[0., 0., 0., 0., 0., 0., 0., 0., 0., 0.],\n",
       "        [0., 0., 0., 0., 0., 0., 0., 0., 0., 0.]],\n",
       "\n",
       "       [[0., 0., 0., 0., 0., 0., 0., 0., 0., 0.],\n",
       "        [0., 0., 0., 0., 0., 0., 0., 0., 0., 0.]],\n",
       "\n",
       "       [[0., 0., 0., 0., 0., 0., 0., 0., 0., 0.],\n",
       "        [0., 0., 0., 0., 0., 0., 0., 0., 0., 0.]],\n",
       "\n",
       "       [[0., 0., 0., 0., 0., 0., 0., 0., 0., 0.],\n",
       "        [0., 0., 0., 0., 0., 0., 0., 0., 0., 0.]],\n",
       "\n",
       "       [[0., 0., 0., 0., 0., 0., 0., 0., 0., 0.],\n",
       "        [0., 0., 0., 0., 0., 0., 0., 0., 0., 0.]],\n",
       "\n",
       "       [[0., 0., 0., 0., 0., 0., 0., 0., 0., 0.],\n",
       "        [0., 0., 0., 0., 0., 0., 0., 0., 0., 0.]],\n",
       "\n",
       "       [[0., 0., 0., 0., 0., 0., 0., 0., 0., 0.],\n",
       "        [0., 0., 0., 0., 0., 0., 0., 0., 0., 0.]],\n",
       "\n",
       "       [[0., 0., 0., 0., 0., 0., 0., 0., 0., 0.],\n",
       "        [0., 0., 0., 0., 0., 0., 0., 0., 0., 0.]],\n",
       "\n",
       "       [[0., 0., 0., 0., 0., 0., 0., 0., 0., 0.],\n",
       "        [0., 0., 0., 0., 0., 0., 0., 0., 0., 0.]]])"
      ]
     },
     "execution_count": 3,
     "metadata": {},
     "output_type": "execute_result"
    }
   ],
   "source": [
    "V"
   ]
  },
  {
   "cell_type": "markdown",
   "metadata": {},
   "source": [
    "# BlackJack Dynamic Programming Strategy"
   ]
  },
  {
   "cell_type": "code",
   "execution_count": 4,
   "metadata": {},
   "outputs": [
    {
     "data": {
      "text/plain": [
       "[(0, 0, 0),\n",
       " (0, 0, 1),\n",
       " (0, 0, 2),\n",
       " (0, 0, 3),\n",
       " (0, 0, 4),\n",
       " (0, 0, 5),\n",
       " (0, 0, 6),\n",
       " (0, 0, 7),\n",
       " (0, 0, 8),\n",
       " (0, 0, 9),\n",
       " (0, 1, 0),\n",
       " (0, 1, 1),\n",
       " (0, 1, 2),\n",
       " (0, 1, 3),\n",
       " (0, 1, 4),\n",
       " (0, 1, 5),\n",
       " (0, 1, 6),\n",
       " (0, 1, 7),\n",
       " (0, 1, 8),\n",
       " (0, 1, 9),\n",
       " (1, 0, 0),\n",
       " (1, 0, 1),\n",
       " (1, 0, 2),\n",
       " (1, 0, 3),\n",
       " (1, 0, 4),\n",
       " (1, 0, 5),\n",
       " (1, 0, 6),\n",
       " (1, 0, 7),\n",
       " (1, 0, 8),\n",
       " (1, 0, 9),\n",
       " (1, 1, 0),\n",
       " (1, 1, 1),\n",
       " (1, 1, 2),\n",
       " (1, 1, 3),\n",
       " (1, 1, 4),\n",
       " (1, 1, 5),\n",
       " (1, 1, 6),\n",
       " (1, 1, 7),\n",
       " (1, 1, 8),\n",
       " (1, 1, 9),\n",
       " (2, 0, 0),\n",
       " (2, 0, 1),\n",
       " (2, 0, 2),\n",
       " (2, 0, 3),\n",
       " (2, 0, 4),\n",
       " (2, 0, 5),\n",
       " (2, 0, 6),\n",
       " (2, 0, 7),\n",
       " (2, 0, 8),\n",
       " (2, 0, 9),\n",
       " (2, 1, 0),\n",
       " (2, 1, 1),\n",
       " (2, 1, 2),\n",
       " (2, 1, 3),\n",
       " (2, 1, 4),\n",
       " (2, 1, 5),\n",
       " (2, 1, 6),\n",
       " (2, 1, 7),\n",
       " (2, 1, 8),\n",
       " (2, 1, 9),\n",
       " (3, 0, 0),\n",
       " (3, 0, 1),\n",
       " (3, 0, 2),\n",
       " (3, 0, 3),\n",
       " (3, 0, 4),\n",
       " (3, 0, 5),\n",
       " (3, 0, 6),\n",
       " (3, 0, 7),\n",
       " (3, 0, 8),\n",
       " (3, 0, 9),\n",
       " (3, 1, 0),\n",
       " (3, 1, 1),\n",
       " (3, 1, 2),\n",
       " (3, 1, 3),\n",
       " (3, 1, 4),\n",
       " (3, 1, 5),\n",
       " (3, 1, 6),\n",
       " (3, 1, 7),\n",
       " (3, 1, 8),\n",
       " (3, 1, 9),\n",
       " (4, 0, 0),\n",
       " (4, 0, 1),\n",
       " (4, 0, 2),\n",
       " (4, 0, 3),\n",
       " (4, 0, 4),\n",
       " (4, 0, 5),\n",
       " (4, 0, 6),\n",
       " (4, 0, 7),\n",
       " (4, 0, 8),\n",
       " (4, 0, 9),\n",
       " (4, 1, 0),\n",
       " (4, 1, 1),\n",
       " (4, 1, 2),\n",
       " (4, 1, 3),\n",
       " (4, 1, 4),\n",
       " (4, 1, 5),\n",
       " (4, 1, 6),\n",
       " (4, 1, 7),\n",
       " (4, 1, 8),\n",
       " (4, 1, 9),\n",
       " (5, 0, 0),\n",
       " (5, 0, 1),\n",
       " (5, 0, 2),\n",
       " (5, 0, 3),\n",
       " (5, 0, 4),\n",
       " (5, 0, 5),\n",
       " (5, 0, 6),\n",
       " (5, 0, 7),\n",
       " (5, 0, 8),\n",
       " (5, 0, 9),\n",
       " (5, 1, 0),\n",
       " (5, 1, 1),\n",
       " (5, 1, 2),\n",
       " (5, 1, 3),\n",
       " (5, 1, 4),\n",
       " (5, 1, 5),\n",
       " (5, 1, 6),\n",
       " (5, 1, 7),\n",
       " (5, 1, 8),\n",
       " (5, 1, 9),\n",
       " (6, 0, 0),\n",
       " (6, 0, 1),\n",
       " (6, 0, 2),\n",
       " (6, 0, 3),\n",
       " (6, 0, 4),\n",
       " (6, 0, 5),\n",
       " (6, 0, 6),\n",
       " (6, 0, 7),\n",
       " (6, 0, 8),\n",
       " (6, 0, 9),\n",
       " (6, 1, 0),\n",
       " (6, 1, 1),\n",
       " (6, 1, 2),\n",
       " (6, 1, 3),\n",
       " (6, 1, 4),\n",
       " (6, 1, 5),\n",
       " (6, 1, 6),\n",
       " (6, 1, 7),\n",
       " (6, 1, 8),\n",
       " (6, 1, 9),\n",
       " (7, 0, 0),\n",
       " (7, 0, 1),\n",
       " (7, 0, 2),\n",
       " (7, 0, 3),\n",
       " (7, 0, 4),\n",
       " (7, 0, 5),\n",
       " (7, 0, 6),\n",
       " (7, 0, 7),\n",
       " (7, 0, 8),\n",
       " (7, 0, 9),\n",
       " (7, 1, 0),\n",
       " (7, 1, 1),\n",
       " (7, 1, 2),\n",
       " (7, 1, 3),\n",
       " (7, 1, 4),\n",
       " (7, 1, 5),\n",
       " (7, 1, 6),\n",
       " (7, 1, 7),\n",
       " (7, 1, 8),\n",
       " (7, 1, 9),\n",
       " (8, 0, 0),\n",
       " (8, 0, 1),\n",
       " (8, 0, 2),\n",
       " (8, 0, 3),\n",
       " (8, 0, 4),\n",
       " (8, 0, 5),\n",
       " (8, 0, 6),\n",
       " (8, 0, 7),\n",
       " (8, 0, 8),\n",
       " (8, 0, 9),\n",
       " (8, 1, 0),\n",
       " (8, 1, 1),\n",
       " (8, 1, 2),\n",
       " (8, 1, 3),\n",
       " (8, 1, 4),\n",
       " (8, 1, 5),\n",
       " (8, 1, 6),\n",
       " (8, 1, 7),\n",
       " (8, 1, 8),\n",
       " (8, 1, 9),\n",
       " (9, 0, 0),\n",
       " (9, 0, 1),\n",
       " (9, 0, 2),\n",
       " (9, 0, 3),\n",
       " (9, 0, 4),\n",
       " (9, 0, 5),\n",
       " (9, 0, 6),\n",
       " (9, 0, 7),\n",
       " (9, 0, 8),\n",
       " (9, 0, 9),\n",
       " (9, 1, 0),\n",
       " (9, 1, 1),\n",
       " (9, 1, 2),\n",
       " (9, 1, 3),\n",
       " (9, 1, 4),\n",
       " (9, 1, 5),\n",
       " (9, 1, 6),\n",
       " (9, 1, 7),\n",
       " (9, 1, 8),\n",
       " (9, 1, 9)]"
      ]
     },
     "execution_count": 4,
     "metadata": {},
     "output_type": "execute_result"
    }
   ],
   "source": [
    "states = []\n",
    "for i in range(10):\n",
    "    for j in range(2):\n",
    "        for k in range(10):\n",
    "            states.append((i, j, k))\n",
    "states"
   ]
  },
  {
   "cell_type": "code",
   "execution_count": 6,
   "metadata": {},
   "outputs": [
    {
     "data": {
      "text/plain": [
       "[[13.6, 19.2, 33.5, 48.1, 61.900000000000006, 100.0],\n",
       " [34.9, 48.5, 62.6, 75.4, 88.2, 100.10000000000001],\n",
       " [38.1,\n",
       "  49.900000000000006,\n",
       "  63.300000000000004,\n",
       "  75.9,\n",
       "  88.10000000000001,\n",
       "  100.10000000000001],\n",
       " [39.6, 51.5, 64.8, 76.89999999999999, 88.69999999999999, 100.1],\n",
       " [42.1, 54.2, 66.60000000000001, 77.60000000000001, 89.2, 100.10000000000001],\n",
       " [43.5, 55.8, 67.6, 78.6, 89.8, 100.1],\n",
       " [26.3, 63.3, 77.39999999999999, 85.3, 93.1, 100.1],\n",
       " [25.0, 37.7, 73.30000000000001, 86.10000000000001, 93.4, 100.0],\n",
       " [22.3, 34.3, 46.3, 81.9, 93.80000000000001, 100.00000000000001],\n",
       " [21.3, 32.55, 44.05, 55.15, 89.25, 100.55]]"
      ]
     },
     "execution_count": 6,
     "metadata": {},
     "output_type": "execute_result"
    }
   ],
   "source": [
    "dealer_dist = [\n",
    "    [13.6, 5.6, 14.3, 14.6, 13.8, 38.1],\n",
    "    [34.9, 13.6, 14.1, 12.8, 12.8, 11.9],\n",
    "    [38.1, 11.8, 13.4, 12.6, 12.2, 12.0],\n",
    "    [39.6, 11.9, 13.3, 12.1, 11.8, 11.4],\n",
    "    [42.1, 12.1, 12.4, 11.0, 11.6, 10.9],\n",
    "    [43.5, 12.3, 11.8, 11.0, 11.2, 10.3],\n",
    "    [26.3, 37.0, 14.1, 7.9, 7.8, 7.0],\n",
    "    [25.0, 12.7,35.6, 12.8, 7.3, 6.6],\n",
    "    [22.3, 12.0, 12.0, 35.6, 11.9, 6.2],\n",
    "    [21.3, 11.25, 11.5, 11.1, 34.1, 11.3]\n",
    "]\n",
    "\n",
    "# cumulative win probability\n",
    "# sum of all indexes before\n",
    "for probabilities in dealer_dist:\n",
    "    for i in range(1, 6):\n",
    "        probabilities[i] += probabilities[i-1]\n",
    "        \n",
    "dealer_dist"
   ]
  },
  {
   "cell_type": "code",
   "execution_count": 7,
   "metadata": {},
   "outputs": [],
   "source": [
    "def blackjack_probability(s_, s, a, r):\n",
    "    stay = 0\n",
    "    hit = 1\n",
    "      \n",
    "    \n",
    "    if a == stay:\n",
    "        '''find Probability of win, loss, tie'''\n",
    "        if s[0] < 5:\n",
    "            # probability dealer busts\n",
    "            if r == 1:\n",
    "                return (dealer_dist[s[2]][0])/100\n",
    "\n",
    "            else:\n",
    "                return (1 - dealer_dist[s[2]][0]/100)\n",
    "        \n",
    "        else:\n",
    "            index = s[0] - 4      # 17 is 1\n",
    "            if r == 1:\n",
    "                return (dealer_dist[s[2]][index-1]/ 100)\n",
    "            \n",
    "            elif r == 0:\n",
    "                return ((dealer_dist[s[2]][index] - dealer_dist[s[2]-1][index-1])/100)\n",
    "            \n",
    "            else:\n",
    "                return (1-(dealer_dist[s[2]][index]/100))\n",
    "                \n",
    "    \n",
    "    if a == hit:\n",
    "        '''Find probability s_'''\n",
    "        if s_[2] != s_[2]:\n",
    "            '''dealer card is not the same'''\n",
    "            return 0\n",
    "        \n",
    "        if s_ == (-1, -1, -1):\n",
    "            '''find Probability of a bust'''\n",
    "            return (4 + s[0])/13\n",
    "            \n",
    "        if s_[1] == 0 and s[1] == 1:\n",
    "            '''player has to use his ace'''\n",
    "            if s_[0] == s[0]:\n",
    "                '''probability of a 10 value card'''\n",
    "                return 4/13\n",
    "            \n",
    "            if s_[0] > s[0]:\n",
    "                return 0\n",
    "            \n",
    "            return 1/13\n",
    "        \n",
    "        if s_[1] == s[1]:\n",
    "            '''no ace transaction'''\n",
    "            if s_[0] <= s[0]:\n",
    "                '''new hand cannot be less than old hand'''\n",
    "                return 0\n",
    "        \n",
    "        return 1/13"
   ]
  },
  {
   "cell_type": "code",
   "execution_count": 8,
   "metadata": {},
   "outputs": [],
   "source": [
    "def pi_20(action, state):\n",
    "    '''deterministic policy that returns the probability of action given state'''\n",
    "    stay = 0\n",
    "    hit = 1\n",
    "    \n",
    "    if state[0] >= 8:\n",
    "        if action == stay:  \n",
    "            return 1\n",
    "        else:\n",
    "            return 0\n",
    "    else:\n",
    "        if action == hit:\n",
    "            return 0\n",
    "        else:\n",
    "            return 1"
   ]
  },
  {
   "cell_type": "code",
   "execution_count": 9,
   "metadata": {},
   "outputs": [],
   "source": [
    "def evaluate_policy(V, theta):\n",
    "    while True:\n",
    "        delta = 0\n",
    "        for s1, s2, s3 in states:\n",
    "            v = V[s1][s2][s3]\n",
    "            bellman_update(V, (s1, s2, s3))\n",
    "            delta = max(delta, abs(v - V[s1][s2][s3]))\n",
    "        if delta < theta:\n",
    "            break\n",
    "    return V"
   ]
  },
  {
   "cell_type": "code",
   "execution_count": 10,
   "metadata": {},
   "outputs": [],
   "source": [
    "def bellman_update(V, state):\n",
    "    \"\"\"Mutate ``V`` according to the Bellman update equation.\"\"\"\n",
    "    stay = 0\n",
    "    hit = 1\n",
    "    \n",
    "    hit_value = 0\n",
    "    for s_ in states:\n",
    "        Vs_ = V[s_[0]][s_[1]][s_[2]]\n",
    "        hit_value += blackjack_probability(s_, state, hit, 0)*(0 + Vs_) \n",
    "    \n",
    "    # probability of a bust\n",
    "    hit_value += blackjack_probability((-1, -1, -1), state, hit, 0)*(-1 + 0) \n",
    "    \n",
    "    # value of staying\n",
    "    stay_value = 0\n",
    "    for r in range(3):\n",
    "        stay_value += blackjack_probability((-1, -1, -1), state, stay, (r-1))*(r-1)\n",
    "    \n",
    "    hand, ace, dealer = state\n",
    "    V[hand][ace][dealer] = pi_20(1, state)*hit_value + pi_20(0, state)*stay_value\n",
    "    return "
   ]
  },
  {
   "cell_type": "code",
   "execution_count": 42,
   "metadata": {},
   "outputs": [],
   "source": [
    "evaluate_poli"
   ]
  },
  {
   "cell_type": "code",
   "execution_count": 12,
   "metadata": {},
   "outputs": [
    {
     "data": {
      "text/plain": [
       "array([[[-0.728 , -0.302 , -0.238 , -0.208 , -0.158 , -0.13  , -0.474 ,\n",
       "         -0.5   , -0.554 , -0.574 ],\n",
       "        [-0.728 , -0.302 , -0.238 , -0.208 , -0.158 , -0.13  , -0.474 ,\n",
       "         -0.5   , -0.554 , -0.574 ]],\n",
       "\n",
       "       [[-0.728 , -0.302 , -0.238 , -0.208 , -0.158 , -0.13  , -0.474 ,\n",
       "         -0.5   , -0.554 , -0.574 ],\n",
       "        [-0.728 , -0.302 , -0.238 , -0.208 , -0.158 , -0.13  , -0.474 ,\n",
       "         -0.5   , -0.554 , -0.574 ]],\n",
       "\n",
       "       [[-0.728 , -0.302 , -0.238 , -0.208 , -0.158 , -0.13  , -0.474 ,\n",
       "         -0.5   , -0.554 , -0.574 ],\n",
       "        [-0.728 , -0.302 , -0.238 , -0.208 , -0.158 , -0.13  , -0.474 ,\n",
       "         -0.5   , -0.554 , -0.574 ]],\n",
       "\n",
       "       [[-0.728 , -0.302 , -0.238 , -0.208 , -0.158 , -0.13  , -0.474 ,\n",
       "         -0.5   , -0.554 , -0.574 ],\n",
       "        [-0.728 , -0.302 , -0.238 , -0.208 , -0.158 , -0.13  , -0.474 ,\n",
       "         -0.5   , -0.554 , -0.574 ]],\n",
       "\n",
       "       [[-0.728 , -0.302 , -0.238 , -0.208 , -0.158 , -0.13  , -0.474 ,\n",
       "         -0.5   , -0.554 , -0.574 ],\n",
       "        [-0.728 , -0.302 , -0.238 , -0.208 , -0.158 , -0.13  , -0.474 ,\n",
       "         -0.5   , -0.554 , -0.574 ]],\n",
       "\n",
       "       [[-0.672 , -0.166 , -0.12  , -0.089 , -0.037 , -0.007 , -0.104 ,\n",
       "         -0.373 , -0.434 , -0.4615],\n",
       "        [-0.672 , -0.166 , -0.12  , -0.089 , -0.037 , -0.007 , -0.104 ,\n",
       "         -0.373 , -0.434 , -0.4615]],\n",
       "\n",
       "       [[-0.473 ,  0.111 ,  0.132 ,  0.163 ,  0.208 ,  0.234 ,  0.407 ,\n",
       "          0.11  , -0.194 , -0.234 ],\n",
       "        [-0.473 ,  0.111 ,  0.132 ,  0.163 ,  0.208 ,  0.234 ,  0.407 ,\n",
       "          0.11  , -0.194 , -0.234 ]],\n",
       "\n",
       "       [[-0.184 ,  0.38  ,  0.392 ,  0.417 ,  0.442 ,  0.462 ,  0.627 ,\n",
       "          0.594 ,  0.282 , -0.008 ],\n",
       "        [-0.184 ,  0.38  ,  0.392 ,  0.417 ,  0.442 ,  0.462 ,  0.627 ,\n",
       "          0.594 ,  0.282 , -0.008 ]],\n",
       "\n",
       "       [[ 0.1   ,  0.636 ,  0.64  ,  0.656 ,  0.668 ,  0.684 ,  0.784 ,\n",
       "          0.795 ,  0.757 ,  0.444 ],\n",
       "        [ 0.1   ,  0.636 ,  0.64  ,  0.656 ,  0.668 ,  0.684 ,  0.784 ,\n",
       "          0.795 ,  0.757 ,  0.444 ]],\n",
       "\n",
       "       [[ 0.619 ,  0.883 ,  0.882 ,  0.888 ,  0.893 ,  0.899 ,  0.932 ,\n",
       "          0.934 ,  0.938 ,  0.898 ],\n",
       "        [ 0.619 ,  0.883 ,  0.882 ,  0.888 ,  0.893 ,  0.899 ,  0.932 ,\n",
       "          0.934 ,  0.938 ,  0.898 ]]])"
      ]
     },
     "execution_count": 12,
     "metadata": {},
     "output_type": "execute_result"
    }
   ],
   "source": [
    "V"
   ]
  },
  {
   "cell_type": "code",
   "execution_count": 11,
   "metadata": {},
   "outputs": [],
   "source": [
    "evaluation = evaluate_policy(V, 0.002)"
   ]
  },
  {
   "cell_type": "markdown",
   "metadata": {},
   "source": [
    "# One Hand Blackjack Simulator"
   ]
  },
  {
   "cell_type": "code",
   "execution_count": 10,
   "metadata": {},
   "outputs": [],
   "source": [
    "def blackjack_hand_result(V, visit_count):\n",
    "    #Deck of cards, 4 types of 10\n",
    "    \n",
    "    deck=np.array([1,2,3,4,5,6,7,8,9,10,10,10,10])\n",
    "    \n",
    "    #Creating a random hand if none is input\n",
    "    \n",
    "    player_hand=[random.choice(deck), random.choice(deck)]\n",
    "        \n",
    "    dealer_card=random.choice(deck)\n",
    "    \n",
    "    # keeps track of all states that the hand has been in during one play\n",
    "    states = []\n",
    "    \n",
    "    player_sum = sum(player_hand)\n",
    "    \n",
    "    # an ace that can be used as an 11 i.e. the sum of the cards is less than 12\n",
    "    usable_ace = 0\n",
    "    if 1 in player_hand:\n",
    "        usable_ace = 1\n",
    "        player_sum += 10\n",
    "    \n",
    "    \n",
    "    if player_sum > 11:\n",
    "        states.append((player_sum-12, usable_ace, dealer_card-1))\n",
    "        visit_count[player_sum-12][usable_ace][dealer_card-1] += 1\n",
    "        \n",
    "    # keeps track of dealers hand\n",
    "    dealer_cards=[dealer_card]\n",
    "    \n",
    "\n",
    "    # Seeing if player hit blackjack\n",
    "    if player_sum == 21:\n",
    "\n",
    "        #Seeing if casino also hit blackjack, in which case tie\n",
    "\n",
    "        dealer_cards.append(random.choice(deck))\n",
    "        if 1 in (dealer_cards) and sum(dealer_cards)==11:\n",
    "            update_values(states, 0, V, visit_count)\n",
    "            return 0\n",
    "        \n",
    "        update_values(states, 1, V, visit_count)\n",
    "        return 1\n",
    "    \n",
    "\n",
    "    else:\n",
    "    # Seeing how often it says to 'hit'\n",
    "\n",
    "        while pi_20(player_hand, dealer_card) == 'Hit':\n",
    "            #Adding one card for every hit\n",
    "            new_card = random.choice(deck)\n",
    "            player_hand.append(new_card)\n",
    "            \n",
    "            player_sum += new_card\n",
    "            \n",
    "            if new_card == 1 and player_sum < 12:\n",
    "                usable_ace = 1\n",
    "                player_sum += 10\n",
    "            \n",
    "            if usable_ace == 1 and player_sum > 21:\n",
    "                player_sum -= 10\n",
    "                usable_ace == 0\n",
    "\n",
    "            #Player loses bet if hand goes above 21\n",
    "            if player_sum>21:\n",
    "                update_values(states, -1, V, visit_count)\n",
    "                return -1\n",
    "            \n",
    "            if player_sum > 11:\n",
    "                states.append((player_sum-12, usable_ace, dealer_card-1))\n",
    "                visit_count[player_sum-12][usable_ace][dealer_card-1] += 1\n",
    "            \n",
    "    while True:\n",
    "        #Plays out the blackjack hand from dealer's side\n",
    "\n",
    "        #Give dealer extra card if loop hasn't broken\n",
    "        dealer_cards.append(random.choice(deck))\n",
    "\n",
    "\n",
    "        #Keep track of sum of dealer's cards\n",
    "        dealer_score= sum(dealer_cards)\n",
    "\n",
    "        #Keep track of soft score if dealer has an ace\n",
    "\n",
    "        soft_score= dealer_score\n",
    "        if dealer_score<=11 and 1 in dealer_cards:\n",
    "            soft_score+=10\n",
    "\n",
    "        #If dealer gets blackjack you lose even if you have 21\n",
    "        if len(dealer_cards)==2 and soft_score==21:\n",
    "            return -1\n",
    "        \n",
    "        #Dealer stays on all 17s\n",
    "        if soft_score>=17:\n",
    "\n",
    "            #If dealer bust, player wins bet\n",
    "            if soft_score>21:\n",
    "                update_values(states, 1, V, visit_count)\n",
    "                return 1\n",
    "\n",
    "            #If player has more than dealer, player wins bet\n",
    "            if player_sum>soft_score:\n",
    "                update_values(states, 1, V, visit_count)\n",
    "                return 1\n",
    "\n",
    "            #Tie means no money changes hands\n",
    "            if player_sum==soft_score:\n",
    "                update_values(states, 0, V, visit_count)\n",
    "                return 0\n",
    "\n",
    "            #If player has lower, player loses bet\n",
    "            if player_sum<soft_score:\n",
    "                update_values(states, -1, V, visit_count)\n",
    "                return -1\n"
   ]
  },
  {
   "cell_type": "markdown",
   "metadata": {},
   "source": [
    "# Multiple Hand Sim, Test to see house edge in Blackjack"
   ]
  },
  {
   "cell_type": "code",
   "execution_count": 11,
   "metadata": {},
   "outputs": [],
   "source": [
    "def blackjack_sim(n_hands, V, visit_count):\n",
    "    for i in range(n_hands):\n",
    "        blackjack_hand_result(V, visit_count)\n",
    "     "
   ]
  },
  {
   "cell_type": "code",
   "execution_count": 41,
   "metadata": {
    "scrolled": true
   },
   "outputs": [
    {
     "data": {
      "text/plain": [
       "array([[[-0.26405388, -0.15314044, -0.13846154, -0.10302594,\n",
       "         -0.10444444, -0.04515174, -0.22066421, -0.26472782,\n",
       "         -0.27233429, -0.26165185],\n",
       "        [-0.25580475, -0.21495327, -0.16666667, -0.15662651,\n",
       "          0.05102041, -0.07207207, -0.2375    , -0.18292683,\n",
       "         -0.17045455, -0.21351226]],\n",
       "\n",
       "       [[-0.26442631, -0.17375093, -0.15884194, -0.13566206,\n",
       "         -0.07035573, -0.03779289, -0.26539101, -0.24193548,\n",
       "         -0.29933665, -0.27137281],\n",
       "        [-0.31260144, -0.2247191 , -0.05882353, -0.12426036,\n",
       "         -0.08433735, -0.03825137, -0.26701571, -0.22162162,\n",
       "         -0.24022346, -0.21893254]],\n",
       "\n",
       "       [[-0.26683922, -0.11769547, -0.12177778, -0.1112069 ,\n",
       "         -0.07308684, -0.08485857, -0.21083827, -0.2278275 ,\n",
       "         -0.29713293, -0.2629072 ],\n",
       "        [-0.26744379, -0.15508021, -0.2       , -0.125     ,\n",
       "         -0.05291005, -0.1027027 , -0.30167598, -0.28645833,\n",
       "         -0.30097087, -0.21817141]],\n",
       "\n",
       "       [[-0.26260742, -0.15789474, -0.13570128, -0.09276438,\n",
       "         -0.06066351, -0.07644444, -0.2625    , -0.22067039,\n",
       "         -0.26691042, -0.27678543],\n",
       "        [-0.28857663, -0.08108108, -0.0625    , -0.06395349,\n",
       "         -0.02339181, -0.01554404, -0.19047619, -0.23952096,\n",
       "         -0.26775956, -0.24125456]],\n",
       "\n",
       "       [[-0.28224056, -0.152657  , -0.12475634, -0.12082515,\n",
       "         -0.07550823, -0.11668373, -0.24361493, -0.2504817 ,\n",
       "         -0.215625  , -0.27574716],\n",
       "        [-0.28988384, -0.02890173, -0.04761905, -0.12972973,\n",
       "         -0.06349206, -0.07317073, -0.32608696, -0.26943005,\n",
       "         -0.3172043 , -0.27063311]],\n",
       "\n",
       "       [[-0.15815562, -0.07228916, -0.08505998, -0.07268464,\n",
       "         -0.00110254,  0.03440367, -0.03801478, -0.18222722,\n",
       "         -0.18252212, -0.17310066],\n",
       "        [-0.15125404, -0.06703911, -0.04102564,  0.02259887,\n",
       "         -0.06341463,  0.06508876, -0.0969697 , -0.18023256,\n",
       "         -0.1954023 , -0.23844221]],\n",
       "\n",
       "       [[-0.03002906,  0.04615385,  0.08259212,  0.08851675,\n",
       "          0.15532734,  0.1181592 ,  0.15166461,  0.05205811,\n",
       "         -0.06436234, -0.08679213],\n",
       "        [-0.01151731,  0.11931818,  0.08045977,  0.08762887,\n",
       "          0.15294118,  0.0855615 ,  0.12432432,  0.03910615,\n",
       "         -0.11764706, -0.10179136]],\n",
       "\n",
       "       [[ 0.05766728,  0.20467033,  0.20784314,  0.20212766,\n",
       "          0.21944035,  0.25102881,  0.31690141,  0.31420373,\n",
       "          0.13453537,  0.04003329],\n",
       "        [ 0.11112915,  0.22282609,  0.19      ,  0.2654321 ,\n",
       "          0.22164948,  0.27604167,  0.25714286,  0.33333333,\n",
       "          0.09039548,  0.06363431]],\n",
       "\n",
       "       [[ 0.25718782,  0.32846715,  0.32016349,  0.32801065,\n",
       "          0.36093552,  0.38186813,  0.38881491,  0.39542703,\n",
       "          0.41498959,  0.27329437],\n",
       "        [ 0.2684793 ,  0.34196891,  0.31868132,  0.29447853,\n",
       "          0.32972973,  0.30978261,  0.36125654,  0.4       ,\n",
       "          0.35911602,  0.26991188]],\n",
       "\n",
       "       [[ 0.        ,  0.        ,  0.        ,  0.        ,\n",
       "          0.        ,  0.        ,  0.        ,  0.        ,\n",
       "          0.        ,  0.        ],\n",
       "        [ 0.37741047,  0.5142003 ,  0.5       ,  0.49395973,\n",
       "          0.52982955,  0.51857143,  0.51267606,  0.50881954,\n",
       "          0.51012146,  0.45964912]]])"
      ]
     },
     "execution_count": 41,
     "metadata": {},
     "output_type": "execute_result"
    }
   ],
   "source": [
    "blackjack_sim(50_000, V, visit_count)\n",
    "V"
   ]
  },
  {
   "cell_type": "code",
   "execution_count": 46,
   "metadata": {},
   "outputs": [
    {
     "data": {
      "application/vnd.plotly.v1+json": {
       "config": {
        "plotlyServerURL": "https://plot.ly"
       },
       "data": [
        {
         "coloraxis": "coloraxis",
         "type": "heatmap",
         "z": [
          [
           0,
           0,
           0,
           0,
           0,
           0,
           0,
           0,
           0,
           0
          ],
          [
           0,
           0,
           0,
           0,
           0,
           0,
           0,
           0,
           0,
           0
          ],
          [
           0,
           0,
           0,
           0,
           0,
           0,
           0,
           0,
           0,
           0
          ],
          [
           0,
           0,
           0,
           0,
           0,
           0,
           0,
           0,
           0,
           0
          ],
          [
           0,
           0,
           0,
           0,
           0,
           0,
           0,
           0,
           0,
           0
          ],
          [
           0,
           0,
           0,
           0,
           0,
           0,
           0,
           0,
           0,
           0
          ],
          [
           0,
           0,
           0,
           0,
           0,
           0,
           0,
           0,
           0,
           0
          ],
          [
           0,
           0,
           0,
           0,
           0,
           0,
           0,
           0,
           0,
           0
          ],
          [
           0,
           0,
           0,
           0,
           0,
           0,
           0,
           0,
           0,
           0
          ],
          [
           0,
           0,
           0,
           0,
           0,
           0,
           0,
           0,
           0,
           0
          ]
         ]
        }
       ],
       "layout": {
        "coloraxis": {
         "colorscale": [
          [
           0,
           "#0d0887"
          ],
          [
           0.1111111111111111,
           "#46039f"
          ],
          [
           0.2222222222222222,
           "#7201a8"
          ],
          [
           0.3333333333333333,
           "#9c179e"
          ],
          [
           0.4444444444444444,
           "#bd3786"
          ],
          [
           0.5555555555555556,
           "#d8576b"
          ],
          [
           0.6666666666666666,
           "#ed7953"
          ],
          [
           0.7777777777777778,
           "#fb9f3a"
          ],
          [
           0.8888888888888888,
           "#fdca26"
          ],
          [
           1,
           "#f0f921"
          ]
         ]
        },
        "margin": {
         "t": 60
        },
        "template": {
         "data": {
          "bar": [
           {
            "error_x": {
             "color": "#2a3f5f"
            },
            "error_y": {
             "color": "#2a3f5f"
            },
            "marker": {
             "line": {
              "color": "#E5ECF6",
              "width": 0.5
             }
            },
            "type": "bar"
           }
          ],
          "barpolar": [
           {
            "marker": {
             "line": {
              "color": "#E5ECF6",
              "width": 0.5
             }
            },
            "type": "barpolar"
           }
          ],
          "carpet": [
           {
            "aaxis": {
             "endlinecolor": "#2a3f5f",
             "gridcolor": "white",
             "linecolor": "white",
             "minorgridcolor": "white",
             "startlinecolor": "#2a3f5f"
            },
            "baxis": {
             "endlinecolor": "#2a3f5f",
             "gridcolor": "white",
             "linecolor": "white",
             "minorgridcolor": "white",
             "startlinecolor": "#2a3f5f"
            },
            "type": "carpet"
           }
          ],
          "choropleth": [
           {
            "colorbar": {
             "outlinewidth": 0,
             "ticks": ""
            },
            "type": "choropleth"
           }
          ],
          "contour": [
           {
            "colorbar": {
             "outlinewidth": 0,
             "ticks": ""
            },
            "colorscale": [
             [
              0,
              "#0d0887"
             ],
             [
              0.1111111111111111,
              "#46039f"
             ],
             [
              0.2222222222222222,
              "#7201a8"
             ],
             [
              0.3333333333333333,
              "#9c179e"
             ],
             [
              0.4444444444444444,
              "#bd3786"
             ],
             [
              0.5555555555555556,
              "#d8576b"
             ],
             [
              0.6666666666666666,
              "#ed7953"
             ],
             [
              0.7777777777777778,
              "#fb9f3a"
             ],
             [
              0.8888888888888888,
              "#fdca26"
             ],
             [
              1,
              "#f0f921"
             ]
            ],
            "type": "contour"
           }
          ],
          "contourcarpet": [
           {
            "colorbar": {
             "outlinewidth": 0,
             "ticks": ""
            },
            "type": "contourcarpet"
           }
          ],
          "heatmap": [
           {
            "colorbar": {
             "outlinewidth": 0,
             "ticks": ""
            },
            "colorscale": [
             [
              0,
              "#0d0887"
             ],
             [
              0.1111111111111111,
              "#46039f"
             ],
             [
              0.2222222222222222,
              "#7201a8"
             ],
             [
              0.3333333333333333,
              "#9c179e"
             ],
             [
              0.4444444444444444,
              "#bd3786"
             ],
             [
              0.5555555555555556,
              "#d8576b"
             ],
             [
              0.6666666666666666,
              "#ed7953"
             ],
             [
              0.7777777777777778,
              "#fb9f3a"
             ],
             [
              0.8888888888888888,
              "#fdca26"
             ],
             [
              1,
              "#f0f921"
             ]
            ],
            "type": "heatmap"
           }
          ],
          "heatmapgl": [
           {
            "colorbar": {
             "outlinewidth": 0,
             "ticks": ""
            },
            "colorscale": [
             [
              0,
              "#0d0887"
             ],
             [
              0.1111111111111111,
              "#46039f"
             ],
             [
              0.2222222222222222,
              "#7201a8"
             ],
             [
              0.3333333333333333,
              "#9c179e"
             ],
             [
              0.4444444444444444,
              "#bd3786"
             ],
             [
              0.5555555555555556,
              "#d8576b"
             ],
             [
              0.6666666666666666,
              "#ed7953"
             ],
             [
              0.7777777777777778,
              "#fb9f3a"
             ],
             [
              0.8888888888888888,
              "#fdca26"
             ],
             [
              1,
              "#f0f921"
             ]
            ],
            "type": "heatmapgl"
           }
          ],
          "histogram": [
           {
            "marker": {
             "colorbar": {
              "outlinewidth": 0,
              "ticks": ""
             }
            },
            "type": "histogram"
           }
          ],
          "histogram2d": [
           {
            "colorbar": {
             "outlinewidth": 0,
             "ticks": ""
            },
            "colorscale": [
             [
              0,
              "#0d0887"
             ],
             [
              0.1111111111111111,
              "#46039f"
             ],
             [
              0.2222222222222222,
              "#7201a8"
             ],
             [
              0.3333333333333333,
              "#9c179e"
             ],
             [
              0.4444444444444444,
              "#bd3786"
             ],
             [
              0.5555555555555556,
              "#d8576b"
             ],
             [
              0.6666666666666666,
              "#ed7953"
             ],
             [
              0.7777777777777778,
              "#fb9f3a"
             ],
             [
              0.8888888888888888,
              "#fdca26"
             ],
             [
              1,
              "#f0f921"
             ]
            ],
            "type": "histogram2d"
           }
          ],
          "histogram2dcontour": [
           {
            "colorbar": {
             "outlinewidth": 0,
             "ticks": ""
            },
            "colorscale": [
             [
              0,
              "#0d0887"
             ],
             [
              0.1111111111111111,
              "#46039f"
             ],
             [
              0.2222222222222222,
              "#7201a8"
             ],
             [
              0.3333333333333333,
              "#9c179e"
             ],
             [
              0.4444444444444444,
              "#bd3786"
             ],
             [
              0.5555555555555556,
              "#d8576b"
             ],
             [
              0.6666666666666666,
              "#ed7953"
             ],
             [
              0.7777777777777778,
              "#fb9f3a"
             ],
             [
              0.8888888888888888,
              "#fdca26"
             ],
             [
              1,
              "#f0f921"
             ]
            ],
            "type": "histogram2dcontour"
           }
          ],
          "mesh3d": [
           {
            "colorbar": {
             "outlinewidth": 0,
             "ticks": ""
            },
            "type": "mesh3d"
           }
          ],
          "parcoords": [
           {
            "line": {
             "colorbar": {
              "outlinewidth": 0,
              "ticks": ""
             }
            },
            "type": "parcoords"
           }
          ],
          "pie": [
           {
            "automargin": true,
            "type": "pie"
           }
          ],
          "scatter": [
           {
            "marker": {
             "colorbar": {
              "outlinewidth": 0,
              "ticks": ""
             }
            },
            "type": "scatter"
           }
          ],
          "scatter3d": [
           {
            "line": {
             "colorbar": {
              "outlinewidth": 0,
              "ticks": ""
             }
            },
            "marker": {
             "colorbar": {
              "outlinewidth": 0,
              "ticks": ""
             }
            },
            "type": "scatter3d"
           }
          ],
          "scattercarpet": [
           {
            "marker": {
             "colorbar": {
              "outlinewidth": 0,
              "ticks": ""
             }
            },
            "type": "scattercarpet"
           }
          ],
          "scattergeo": [
           {
            "marker": {
             "colorbar": {
              "outlinewidth": 0,
              "ticks": ""
             }
            },
            "type": "scattergeo"
           }
          ],
          "scattergl": [
           {
            "marker": {
             "colorbar": {
              "outlinewidth": 0,
              "ticks": ""
             }
            },
            "type": "scattergl"
           }
          ],
          "scattermapbox": [
           {
            "marker": {
             "colorbar": {
              "outlinewidth": 0,
              "ticks": ""
             }
            },
            "type": "scattermapbox"
           }
          ],
          "scatterpolar": [
           {
            "marker": {
             "colorbar": {
              "outlinewidth": 0,
              "ticks": ""
             }
            },
            "type": "scatterpolar"
           }
          ],
          "scatterpolargl": [
           {
            "marker": {
             "colorbar": {
              "outlinewidth": 0,
              "ticks": ""
             }
            },
            "type": "scatterpolargl"
           }
          ],
          "scatterternary": [
           {
            "marker": {
             "colorbar": {
              "outlinewidth": 0,
              "ticks": ""
             }
            },
            "type": "scatterternary"
           }
          ],
          "surface": [
           {
            "colorbar": {
             "outlinewidth": 0,
             "ticks": ""
            },
            "colorscale": [
             [
              0,
              "#0d0887"
             ],
             [
              0.1111111111111111,
              "#46039f"
             ],
             [
              0.2222222222222222,
              "#7201a8"
             ],
             [
              0.3333333333333333,
              "#9c179e"
             ],
             [
              0.4444444444444444,
              "#bd3786"
             ],
             [
              0.5555555555555556,
              "#d8576b"
             ],
             [
              0.6666666666666666,
              "#ed7953"
             ],
             [
              0.7777777777777778,
              "#fb9f3a"
             ],
             [
              0.8888888888888888,
              "#fdca26"
             ],
             [
              1,
              "#f0f921"
             ]
            ],
            "type": "surface"
           }
          ],
          "table": [
           {
            "cells": {
             "fill": {
              "color": "#EBF0F8"
             },
             "line": {
              "color": "white"
             }
            },
            "header": {
             "fill": {
              "color": "#C8D4E3"
             },
             "line": {
              "color": "white"
             }
            },
            "type": "table"
           }
          ]
         },
         "layout": {
          "annotationdefaults": {
           "arrowcolor": "#2a3f5f",
           "arrowhead": 0,
           "arrowwidth": 1
          },
          "coloraxis": {
           "colorbar": {
            "outlinewidth": 0,
            "ticks": ""
           }
          },
          "colorscale": {
           "diverging": [
            [
             0,
             "#8e0152"
            ],
            [
             0.1,
             "#c51b7d"
            ],
            [
             0.2,
             "#de77ae"
            ],
            [
             0.3,
             "#f1b6da"
            ],
            [
             0.4,
             "#fde0ef"
            ],
            [
             0.5,
             "#f7f7f7"
            ],
            [
             0.6,
             "#e6f5d0"
            ],
            [
             0.7,
             "#b8e186"
            ],
            [
             0.8,
             "#7fbc41"
            ],
            [
             0.9,
             "#4d9221"
            ],
            [
             1,
             "#276419"
            ]
           ],
           "sequential": [
            [
             0,
             "#0d0887"
            ],
            [
             0.1111111111111111,
             "#46039f"
            ],
            [
             0.2222222222222222,
             "#7201a8"
            ],
            [
             0.3333333333333333,
             "#9c179e"
            ],
            [
             0.4444444444444444,
             "#bd3786"
            ],
            [
             0.5555555555555556,
             "#d8576b"
            ],
            [
             0.6666666666666666,
             "#ed7953"
            ],
            [
             0.7777777777777778,
             "#fb9f3a"
            ],
            [
             0.8888888888888888,
             "#fdca26"
            ],
            [
             1,
             "#f0f921"
            ]
           ],
           "sequentialminus": [
            [
             0,
             "#0d0887"
            ],
            [
             0.1111111111111111,
             "#46039f"
            ],
            [
             0.2222222222222222,
             "#7201a8"
            ],
            [
             0.3333333333333333,
             "#9c179e"
            ],
            [
             0.4444444444444444,
             "#bd3786"
            ],
            [
             0.5555555555555556,
             "#d8576b"
            ],
            [
             0.6666666666666666,
             "#ed7953"
            ],
            [
             0.7777777777777778,
             "#fb9f3a"
            ],
            [
             0.8888888888888888,
             "#fdca26"
            ],
            [
             1,
             "#f0f921"
            ]
           ]
          },
          "colorway": [
           "#636efa",
           "#EF553B",
           "#00cc96",
           "#ab63fa",
           "#FFA15A",
           "#19d3f3",
           "#FF6692",
           "#B6E880",
           "#FF97FF",
           "#FECB52"
          ],
          "font": {
           "color": "#2a3f5f"
          },
          "geo": {
           "bgcolor": "white",
           "lakecolor": "white",
           "landcolor": "#E5ECF6",
           "showlakes": true,
           "showland": true,
           "subunitcolor": "white"
          },
          "hoverlabel": {
           "align": "left"
          },
          "hovermode": "closest",
          "mapbox": {
           "style": "light"
          },
          "paper_bgcolor": "white",
          "plot_bgcolor": "#E5ECF6",
          "polar": {
           "angularaxis": {
            "gridcolor": "white",
            "linecolor": "white",
            "ticks": ""
           },
           "bgcolor": "#E5ECF6",
           "radialaxis": {
            "gridcolor": "white",
            "linecolor": "white",
            "ticks": ""
           }
          },
          "scene": {
           "xaxis": {
            "backgroundcolor": "#E5ECF6",
            "gridcolor": "white",
            "gridwidth": 2,
            "linecolor": "white",
            "showbackground": true,
            "ticks": "",
            "zerolinecolor": "white"
           },
           "yaxis": {
            "backgroundcolor": "#E5ECF6",
            "gridcolor": "white",
            "gridwidth": 2,
            "linecolor": "white",
            "showbackground": true,
            "ticks": "",
            "zerolinecolor": "white"
           },
           "zaxis": {
            "backgroundcolor": "#E5ECF6",
            "gridcolor": "white",
            "gridwidth": 2,
            "linecolor": "white",
            "showbackground": true,
            "ticks": "",
            "zerolinecolor": "white"
           }
          },
          "shapedefaults": {
           "line": {
            "color": "#2a3f5f"
           }
          },
          "ternary": {
           "aaxis": {
            "gridcolor": "white",
            "linecolor": "white",
            "ticks": ""
           },
           "baxis": {
            "gridcolor": "white",
            "linecolor": "white",
            "ticks": ""
           },
           "bgcolor": "#E5ECF6",
           "caxis": {
            "gridcolor": "white",
            "linecolor": "white",
            "ticks": ""
           }
          },
          "title": {
           "x": 0.05
          },
          "xaxis": {
           "automargin": true,
           "gridcolor": "white",
           "linecolor": "white",
           "ticks": "",
           "title": {
            "standoff": 15
           },
           "zerolinecolor": "white",
           "zerolinewidth": 2
          },
          "yaxis": {
           "automargin": true,
           "gridcolor": "white",
           "linecolor": "white",
           "ticks": "",
           "title": {
            "standoff": 15
           },
           "zerolinecolor": "white",
           "zerolinewidth": 2
          }
         }
        },
        "xaxis": {
         "constrain": "domain",
         "scaleanchor": "y"
        },
        "yaxis": {
         "autorange": "reversed",
         "constrain": "domain"
        }
       }
      },
      "text/html": [
       "<div>\n",
       "        \n",
       "        \n",
       "            <div id=\"be482a0d-a776-4eb1-9078-5bc32e105aaa\" class=\"plotly-graph-div\" style=\"height:525px; width:100%;\"></div>\n",
       "            <script type=\"text/javascript\">\n",
       "                require([\"plotly\"], function(Plotly) {\n",
       "                    window.PLOTLYENV=window.PLOTLYENV || {};\n",
       "                    \n",
       "                if (document.getElementById(\"be482a0d-a776-4eb1-9078-5bc32e105aaa\")) {\n",
       "                    Plotly.newPlot(\n",
       "                        'be482a0d-a776-4eb1-9078-5bc32e105aaa',\n",
       "                        [{\"coloraxis\": \"coloraxis\", \"type\": \"heatmap\", \"z\": [[0.0, 0.0, 0.0, 0.0, 0.0, 0.0, 0.0, 0.0, 0.0, 0.0], [0.0, 0.0, 0.0, 0.0, 0.0, 0.0, 0.0, 0.0, 0.0, 0.0], [0.0, 0.0, 0.0, 0.0, 0.0, 0.0, 0.0, 0.0, 0.0, 0.0], [0.0, 0.0, 0.0, 0.0, 0.0, 0.0, 0.0, 0.0, 0.0, 0.0], [0.0, 0.0, 0.0, 0.0, 0.0, 0.0, 0.0, 0.0, 0.0, 0.0], [0.0, 0.0, 0.0, 0.0, 0.0, 0.0, 0.0, 0.0, 0.0, 0.0], [0.0, 0.0, 0.0, 0.0, 0.0, 0.0, 0.0, 0.0, 0.0, 0.0], [0.0, 0.0, 0.0, 0.0, 0.0, 0.0, 0.0, 0.0, 0.0, 0.0], [0.0, 0.0, 0.0, 0.0, 0.0, 0.0, 0.0, 0.0, 0.0, 0.0], [0.0, 0.0, 0.0, 0.0, 0.0, 0.0, 0.0, 0.0, 0.0, 0.0]]}],\n",
       "                        {\"coloraxis\": {\"colorscale\": [[0.0, \"#0d0887\"], [0.1111111111111111, \"#46039f\"], [0.2222222222222222, \"#7201a8\"], [0.3333333333333333, \"#9c179e\"], [0.4444444444444444, \"#bd3786\"], [0.5555555555555556, \"#d8576b\"], [0.6666666666666666, \"#ed7953\"], [0.7777777777777778, \"#fb9f3a\"], [0.8888888888888888, \"#fdca26\"], [1.0, \"#f0f921\"]]}, \"margin\": {\"t\": 60}, \"template\": {\"data\": {\"bar\": [{\"error_x\": {\"color\": \"#2a3f5f\"}, \"error_y\": {\"color\": \"#2a3f5f\"}, \"marker\": {\"line\": {\"color\": \"#E5ECF6\", \"width\": 0.5}}, \"type\": \"bar\"}], \"barpolar\": [{\"marker\": {\"line\": {\"color\": \"#E5ECF6\", \"width\": 0.5}}, \"type\": \"barpolar\"}], \"carpet\": [{\"aaxis\": {\"endlinecolor\": \"#2a3f5f\", \"gridcolor\": \"white\", \"linecolor\": \"white\", \"minorgridcolor\": \"white\", \"startlinecolor\": \"#2a3f5f\"}, \"baxis\": {\"endlinecolor\": \"#2a3f5f\", \"gridcolor\": \"white\", \"linecolor\": \"white\", \"minorgridcolor\": \"white\", \"startlinecolor\": \"#2a3f5f\"}, \"type\": \"carpet\"}], \"choropleth\": [{\"colorbar\": {\"outlinewidth\": 0, \"ticks\": \"\"}, \"type\": \"choropleth\"}], \"contour\": [{\"colorbar\": {\"outlinewidth\": 0, \"ticks\": \"\"}, \"colorscale\": [[0.0, \"#0d0887\"], [0.1111111111111111, \"#46039f\"], [0.2222222222222222, \"#7201a8\"], [0.3333333333333333, \"#9c179e\"], [0.4444444444444444, \"#bd3786\"], [0.5555555555555556, \"#d8576b\"], [0.6666666666666666, \"#ed7953\"], [0.7777777777777778, \"#fb9f3a\"], [0.8888888888888888, \"#fdca26\"], [1.0, \"#f0f921\"]], \"type\": \"contour\"}], \"contourcarpet\": [{\"colorbar\": {\"outlinewidth\": 0, \"ticks\": \"\"}, \"type\": \"contourcarpet\"}], \"heatmap\": [{\"colorbar\": {\"outlinewidth\": 0, \"ticks\": \"\"}, \"colorscale\": [[0.0, \"#0d0887\"], [0.1111111111111111, \"#46039f\"], [0.2222222222222222, \"#7201a8\"], [0.3333333333333333, \"#9c179e\"], [0.4444444444444444, \"#bd3786\"], [0.5555555555555556, \"#d8576b\"], [0.6666666666666666, \"#ed7953\"], [0.7777777777777778, \"#fb9f3a\"], [0.8888888888888888, \"#fdca26\"], [1.0, \"#f0f921\"]], \"type\": \"heatmap\"}], \"heatmapgl\": [{\"colorbar\": {\"outlinewidth\": 0, \"ticks\": \"\"}, \"colorscale\": [[0.0, \"#0d0887\"], [0.1111111111111111, \"#46039f\"], [0.2222222222222222, \"#7201a8\"], [0.3333333333333333, \"#9c179e\"], [0.4444444444444444, \"#bd3786\"], [0.5555555555555556, \"#d8576b\"], [0.6666666666666666, \"#ed7953\"], [0.7777777777777778, \"#fb9f3a\"], [0.8888888888888888, \"#fdca26\"], [1.0, \"#f0f921\"]], \"type\": \"heatmapgl\"}], \"histogram\": [{\"marker\": {\"colorbar\": {\"outlinewidth\": 0, \"ticks\": \"\"}}, \"type\": \"histogram\"}], \"histogram2d\": [{\"colorbar\": {\"outlinewidth\": 0, \"ticks\": \"\"}, \"colorscale\": [[0.0, \"#0d0887\"], [0.1111111111111111, \"#46039f\"], [0.2222222222222222, \"#7201a8\"], [0.3333333333333333, \"#9c179e\"], [0.4444444444444444, \"#bd3786\"], [0.5555555555555556, \"#d8576b\"], [0.6666666666666666, \"#ed7953\"], [0.7777777777777778, \"#fb9f3a\"], [0.8888888888888888, \"#fdca26\"], [1.0, \"#f0f921\"]], \"type\": \"histogram2d\"}], \"histogram2dcontour\": [{\"colorbar\": {\"outlinewidth\": 0, \"ticks\": \"\"}, \"colorscale\": [[0.0, \"#0d0887\"], [0.1111111111111111, \"#46039f\"], [0.2222222222222222, \"#7201a8\"], [0.3333333333333333, \"#9c179e\"], [0.4444444444444444, \"#bd3786\"], [0.5555555555555556, \"#d8576b\"], [0.6666666666666666, \"#ed7953\"], [0.7777777777777778, \"#fb9f3a\"], [0.8888888888888888, \"#fdca26\"], [1.0, \"#f0f921\"]], \"type\": \"histogram2dcontour\"}], \"mesh3d\": [{\"colorbar\": {\"outlinewidth\": 0, \"ticks\": \"\"}, \"type\": \"mesh3d\"}], \"parcoords\": [{\"line\": {\"colorbar\": {\"outlinewidth\": 0, \"ticks\": \"\"}}, \"type\": \"parcoords\"}], \"pie\": [{\"automargin\": true, \"type\": \"pie\"}], \"scatter\": [{\"marker\": {\"colorbar\": {\"outlinewidth\": 0, \"ticks\": \"\"}}, \"type\": \"scatter\"}], \"scatter3d\": [{\"line\": {\"colorbar\": {\"outlinewidth\": 0, \"ticks\": \"\"}}, \"marker\": {\"colorbar\": {\"outlinewidth\": 0, \"ticks\": \"\"}}, \"type\": \"scatter3d\"}], \"scattercarpet\": [{\"marker\": {\"colorbar\": {\"outlinewidth\": 0, \"ticks\": \"\"}}, \"type\": \"scattercarpet\"}], \"scattergeo\": [{\"marker\": {\"colorbar\": {\"outlinewidth\": 0, \"ticks\": \"\"}}, \"type\": \"scattergeo\"}], \"scattergl\": [{\"marker\": {\"colorbar\": {\"outlinewidth\": 0, \"ticks\": \"\"}}, \"type\": \"scattergl\"}], \"scattermapbox\": [{\"marker\": {\"colorbar\": {\"outlinewidth\": 0, \"ticks\": \"\"}}, \"type\": \"scattermapbox\"}], \"scatterpolar\": [{\"marker\": {\"colorbar\": {\"outlinewidth\": 0, \"ticks\": \"\"}}, \"type\": \"scatterpolar\"}], \"scatterpolargl\": [{\"marker\": {\"colorbar\": {\"outlinewidth\": 0, \"ticks\": \"\"}}, \"type\": \"scatterpolargl\"}], \"scatterternary\": [{\"marker\": {\"colorbar\": {\"outlinewidth\": 0, \"ticks\": \"\"}}, \"type\": \"scatterternary\"}], \"surface\": [{\"colorbar\": {\"outlinewidth\": 0, \"ticks\": \"\"}, \"colorscale\": [[0.0, \"#0d0887\"], [0.1111111111111111, \"#46039f\"], [0.2222222222222222, \"#7201a8\"], [0.3333333333333333, \"#9c179e\"], [0.4444444444444444, \"#bd3786\"], [0.5555555555555556, \"#d8576b\"], [0.6666666666666666, \"#ed7953\"], [0.7777777777777778, \"#fb9f3a\"], [0.8888888888888888, \"#fdca26\"], [1.0, \"#f0f921\"]], \"type\": \"surface\"}], \"table\": [{\"cells\": {\"fill\": {\"color\": \"#EBF0F8\"}, \"line\": {\"color\": \"white\"}}, \"header\": {\"fill\": {\"color\": \"#C8D4E3\"}, \"line\": {\"color\": \"white\"}}, \"type\": \"table\"}]}, \"layout\": {\"annotationdefaults\": {\"arrowcolor\": \"#2a3f5f\", \"arrowhead\": 0, \"arrowwidth\": 1}, \"coloraxis\": {\"colorbar\": {\"outlinewidth\": 0, \"ticks\": \"\"}}, \"colorscale\": {\"diverging\": [[0, \"#8e0152\"], [0.1, \"#c51b7d\"], [0.2, \"#de77ae\"], [0.3, \"#f1b6da\"], [0.4, \"#fde0ef\"], [0.5, \"#f7f7f7\"], [0.6, \"#e6f5d0\"], [0.7, \"#b8e186\"], [0.8, \"#7fbc41\"], [0.9, \"#4d9221\"], [1, \"#276419\"]], \"sequential\": [[0.0, \"#0d0887\"], [0.1111111111111111, \"#46039f\"], [0.2222222222222222, \"#7201a8\"], [0.3333333333333333, \"#9c179e\"], [0.4444444444444444, \"#bd3786\"], [0.5555555555555556, \"#d8576b\"], [0.6666666666666666, \"#ed7953\"], [0.7777777777777778, \"#fb9f3a\"], [0.8888888888888888, \"#fdca26\"], [1.0, \"#f0f921\"]], \"sequentialminus\": [[0.0, \"#0d0887\"], [0.1111111111111111, \"#46039f\"], [0.2222222222222222, \"#7201a8\"], [0.3333333333333333, \"#9c179e\"], [0.4444444444444444, \"#bd3786\"], [0.5555555555555556, \"#d8576b\"], [0.6666666666666666, \"#ed7953\"], [0.7777777777777778, \"#fb9f3a\"], [0.8888888888888888, \"#fdca26\"], [1.0, \"#f0f921\"]]}, \"colorway\": [\"#636efa\", \"#EF553B\", \"#00cc96\", \"#ab63fa\", \"#FFA15A\", \"#19d3f3\", \"#FF6692\", \"#B6E880\", \"#FF97FF\", \"#FECB52\"], \"font\": {\"color\": \"#2a3f5f\"}, \"geo\": {\"bgcolor\": \"white\", \"lakecolor\": \"white\", \"landcolor\": \"#E5ECF6\", \"showlakes\": true, \"showland\": true, \"subunitcolor\": \"white\"}, \"hoverlabel\": {\"align\": \"left\"}, \"hovermode\": \"closest\", \"mapbox\": {\"style\": \"light\"}, \"paper_bgcolor\": \"white\", \"plot_bgcolor\": \"#E5ECF6\", \"polar\": {\"angularaxis\": {\"gridcolor\": \"white\", \"linecolor\": \"white\", \"ticks\": \"\"}, \"bgcolor\": \"#E5ECF6\", \"radialaxis\": {\"gridcolor\": \"white\", \"linecolor\": \"white\", \"ticks\": \"\"}}, \"scene\": {\"xaxis\": {\"backgroundcolor\": \"#E5ECF6\", \"gridcolor\": \"white\", \"gridwidth\": 2, \"linecolor\": \"white\", \"showbackground\": true, \"ticks\": \"\", \"zerolinecolor\": \"white\"}, \"yaxis\": {\"backgroundcolor\": \"#E5ECF6\", \"gridcolor\": \"white\", \"gridwidth\": 2, \"linecolor\": \"white\", \"showbackground\": true, \"ticks\": \"\", \"zerolinecolor\": \"white\"}, \"zaxis\": {\"backgroundcolor\": \"#E5ECF6\", \"gridcolor\": \"white\", \"gridwidth\": 2, \"linecolor\": \"white\", \"showbackground\": true, \"ticks\": \"\", \"zerolinecolor\": \"white\"}}, \"shapedefaults\": {\"line\": {\"color\": \"#2a3f5f\"}}, \"ternary\": {\"aaxis\": {\"gridcolor\": \"white\", \"linecolor\": \"white\", \"ticks\": \"\"}, \"baxis\": {\"gridcolor\": \"white\", \"linecolor\": \"white\", \"ticks\": \"\"}, \"bgcolor\": \"#E5ECF6\", \"caxis\": {\"gridcolor\": \"white\", \"linecolor\": \"white\", \"ticks\": \"\"}}, \"title\": {\"x\": 0.05}, \"xaxis\": {\"automargin\": true, \"gridcolor\": \"white\", \"linecolor\": \"white\", \"ticks\": \"\", \"title\": {\"standoff\": 15}, \"zerolinecolor\": \"white\", \"zerolinewidth\": 2}, \"yaxis\": {\"automargin\": true, \"gridcolor\": \"white\", \"linecolor\": \"white\", \"ticks\": \"\", \"title\": {\"standoff\": 15}, \"zerolinecolor\": \"white\", \"zerolinewidth\": 2}}}, \"xaxis\": {\"constrain\": \"domain\", \"scaleanchor\": \"y\"}, \"yaxis\": {\"autorange\": \"reversed\", \"constrain\": \"domain\"}},\n",
       "                        {\"responsive\": true}\n",
       "                    ).then(function(){\n",
       "                            \n",
       "var gd = document.getElementById('be482a0d-a776-4eb1-9078-5bc32e105aaa');\n",
       "var x = new MutationObserver(function (mutations, observer) {{\n",
       "        var display = window.getComputedStyle(gd).display;\n",
       "        if (!display || display === 'none') {{\n",
       "            console.log([gd, 'removed!']);\n",
       "            Plotly.purge(gd);\n",
       "            observer.disconnect();\n",
       "        }}\n",
       "}});\n",
       "\n",
       "// Listen for the removal of the full notebook cells\n",
       "var notebookContainer = gd.closest('#notebook-container');\n",
       "if (notebookContainer) {{\n",
       "    x.observe(notebookContainer, {childList: true});\n",
       "}}\n",
       "\n",
       "// Listen for the clearing of the current output cell\n",
       "var outputEl = gd.closest('.output');\n",
       "if (outputEl) {{\n",
       "    x.observe(outputEl, {childList: true});\n",
       "}}\n",
       "\n",
       "                        })\n",
       "                };\n",
       "                });\n",
       "            </script>\n",
       "        </div>"
      ]
     },
     "metadata": {},
     "output_type": "display_data"
    },
    {
     "data": {
      "text/plain": [
       "[[0.0, 0.0, 0.0, 0.0, 0.0, 0.0, 0.0, 0.0, 0.0, 0.0],\n",
       " [0.0, 0.0, 0.0, 0.0, 0.0, 0.0, 0.0, 0.0, 0.0, 0.0],\n",
       " [0.0, 0.0, 0.0, 0.0, 0.0, 0.0, 0.0, 0.0, 0.0, 0.0],\n",
       " [0.0, 0.0, 0.0, 0.0, 0.0, 0.0, 0.0, 0.0, 0.0, 0.0],\n",
       " [0.0, 0.0, 0.0, 0.0, 0.0, 0.0, 0.0, 0.0, 0.0, 0.0],\n",
       " [0.0, 0.0, 0.0, 0.0, 0.0, 0.0, 0.0, 0.0, 0.0, 0.0],\n",
       " [0.0, 0.0, 0.0, 0.0, 0.0, 0.0, 0.0, 0.0, 0.0, 0.0],\n",
       " [0.0, 0.0, 0.0, 0.0, 0.0, 0.0, 0.0, 0.0, 0.0, 0.0],\n",
       " [0.0, 0.0, 0.0, 0.0, 0.0, 0.0, 0.0, 0.0, 0.0, 0.0],\n",
       " [0.0, 0.0, 0.0, 0.0, 0.0, 0.0, 0.0, 0.0, 0.0, 0.0]]"
      ]
     },
     "execution_count": 46,
     "metadata": {},
     "output_type": "execute_result"
    }
   ],
   "source": [
    "import plotly.express as px\n",
    "\n",
    "fig = px.imshow(without_ace)\n",
    "fig.show()\n",
    "without_ace"
   ]
  },
  {
   "cell_type": "code",
   "execution_count": 70,
   "metadata": {
    "scrolled": true
   },
   "outputs": [
    {
     "data": {
      "text/plain": [
       "[[0.0, 0.0, 0.0, 0.0, 0.0, 0.0, 0.0, 0.0, 0.0, 0.0],\n",
       " [0.0, 0.0, 0.0, 0.0, 0.0, 0.0, 0.0, 0.0, 0.0, 0.0],\n",
       " [0.0, 0.0, 0.0, 0.0, 0.0, 0.0, 0.0, 0.0, 0.0, 0.0],\n",
       " [0.0, 0.0, 0.0, 0.0, 0.0, 0.0, 0.0, 0.0, 0.0, 0.0],\n",
       " [0.0, 0.0, 0.0, 0.0, 0.0, 0.0, 0.0, 0.0, 0.0, 0.0],\n",
       " [0.0, 0.0, 0.0, 0.0, 0.0, 0.0, 0.0, 0.0, 0.0, 0.0],\n",
       " [0.0, 0.0, 0.0, 0.0, 0.0, 0.0, 0.0, 0.0, 0.0, 0.0],\n",
       " [0.0, 0.0, 0.0, 0.0, 0.0, 0.0, 0.0, 0.0, 0.0, 0.0],\n",
       " [0.0, 0.0, 0.0, 0.0, 0.0, 0.0, 0.0, 0.0, 0.0, 0.0],\n",
       " [0.0, 0.0, 0.0, 0.0, 0.0, 0.0, 0.0, 0.0, 0.0, 0.0]]"
      ]
     },
     "execution_count": 70,
     "metadata": {},
     "output_type": "execute_result"
    }
   ],
   "source": [
    "without_ace"
   ]
  },
  {
   "cell_type": "code",
   "execution_count": 58,
   "metadata": {},
   "outputs": [],
   "source": [
    "with_ace = [[0.]*10]*10\n",
    "for i in range(len(V)):\n",
    "    for j in range(len(V[0][0])):\n",
    "         with_ace[i][j] = V[i][1][j]"
   ]
  },
  {
   "cell_type": "code",
   "execution_count": 69,
   "metadata": {},
   "outputs": [],
   "source": [
    "without_ace = [[0.]*10]*10\n",
    "for i in range(len(V)):\n",
    "    for j in range(len(V[0][0])):\n",
    "         without_ace[i][j] = V[i][0][j]"
   ]
  },
  {
   "cell_type": "code",
   "execution_count": null,
   "metadata": {},
   "outputs": [],
   "source": []
  },
  {
   "cell_type": "code",
   "execution_count": 11,
   "metadata": {},
   "outputs": [
    {
     "ename": "TypeError",
     "evalue": "blackjack_sim() got an unexpected keyword argument 'bet'",
     "output_type": "error",
     "traceback": [
      "\u001b[1;31m---------------------------------------------------------------------------\u001b[0m",
      "\u001b[1;31mTypeError\u001b[0m                                 Traceback (most recent call last)",
      "\u001b[1;32m<ipython-input-11-00e50e9aeb64>\u001b[0m in \u001b[0;36m<module>\u001b[1;34m()\u001b[0m\n\u001b[0;32m      1\u001b[0m \u001b[1;31m#Simulates a million hands to estimate house edge\u001b[0m\u001b[1;33m\u001b[0m\u001b[1;33m\u001b[0m\u001b[0m\n\u001b[1;32m----> 2\u001b[1;33m \u001b[0mhouse_edge\u001b[0m\u001b[1;33m=\u001b[0m\u001b[1;33m-\u001b[0m\u001b[1;36m100\u001b[0m\u001b[1;33m*\u001b[0m\u001b[1;33m(\u001b[0m\u001b[0mblackjack_sim\u001b[0m\u001b[1;33m(\u001b[0m\u001b[0mn_hands\u001b[0m\u001b[1;33m=\u001b[0m\u001b[1;36m1_000_000\u001b[0m\u001b[1;33m,\u001b[0m \u001b[0mbet\u001b[0m\u001b[1;33m=\u001b[0m\u001b[1;36m1\u001b[0m\u001b[1;33m)\u001b[0m \u001b[1;33m/\u001b[0m \u001b[1;36m1_000_000\u001b[0m\u001b[1;33m)\u001b[0m\u001b[1;33m\u001b[0m\u001b[0m\n\u001b[0m\u001b[0;32m      3\u001b[0m \u001b[0mhouse_edge\u001b[0m \u001b[1;31m#percentage\u001b[0m\u001b[1;33m\u001b[0m\u001b[0m\n",
      "\u001b[1;31mTypeError\u001b[0m: blackjack_sim() got an unexpected keyword argument 'bet'"
     ]
    }
   ],
   "source": [
    "#Simulates a million hands to estimate house edge\n",
    "house_edge=-100*(blackjack_sim(n_hands=1_000_000, bet=1) / 1_000_000)\n",
    "house_edge #percentage"
   ]
  },
  {
   "cell_type": "markdown",
   "metadata": {},
   "source": [
    "# Strategy Test: Double 7 vs 6"
   ]
  },
  {
   "cell_type": "code",
   "execution_count": 10,
   "metadata": {},
   "outputs": [
    {
     "data": {
      "text/plain": [
       "2104"
      ]
     },
     "execution_count": 10,
     "metadata": {},
     "output_type": "execute_result"
    }
   ],
   "source": [
    "#Player profit from following basic strategy\n",
    "blackjack_sim(n_hands=100_000, player_h=[4,3], dealer_c=6, bet=1)\n"
   ]
  },
  {
   "cell_type": "code",
   "execution_count": 11,
   "metadata": {},
   "outputs": [
    {
     "data": {
      "text/plain": [
       "-14626"
      ]
     },
     "execution_count": 11,
     "metadata": {},
     "output_type": "execute_result"
    }
   ],
   "source": [
    "blackjack_sim(n_hands=100_000, player_h=[4,3], dealer_c=6, bet=1, hard_c='Double')\n"
   ]
  },
  {
   "cell_type": "markdown",
   "metadata": {},
   "source": [
    "# Strategy Test: Split 10s vs 6"
   ]
  },
  {
   "cell_type": "code",
   "execution_count": 12,
   "metadata": {},
   "outputs": [
    {
     "data": {
      "text/plain": [
       "70626"
      ]
     },
     "execution_count": 12,
     "metadata": {},
     "output_type": "execute_result"
    }
   ],
   "source": [
    "blackjack_sim(n_hands=100_000, player_h=[10,10], dealer_c=6, bet=1)\n"
   ]
  },
  {
   "cell_type": "code",
   "execution_count": 13,
   "metadata": {},
   "outputs": [
    {
     "data": {
      "text/plain": [
       "60517.5"
      ]
     },
     "execution_count": 13,
     "metadata": {},
     "output_type": "execute_result"
    }
   ],
   "source": [
    "blackjack_sim(n_hands=100_000, player_h=[10,10], dealer_c=6, bet=1, hard_c='Split')\n"
   ]
  },
  {
   "cell_type": "code",
   "execution_count": null,
   "metadata": {},
   "outputs": [],
   "source": []
  }
 ],
 "metadata": {
  "kernelspec": {
   "display_name": "Python 3",
   "language": "python",
   "name": "python3"
  },
  "language_info": {
   "codemirror_mode": {
    "name": "ipython",
    "version": 3
   },
   "file_extension": ".py",
   "mimetype": "text/x-python",
   "name": "python",
   "nbconvert_exporter": "python",
   "pygments_lexer": "ipython3",
   "version": "3.7.0"
  }
 },
 "nbformat": 4,
 "nbformat_minor": 2
}
