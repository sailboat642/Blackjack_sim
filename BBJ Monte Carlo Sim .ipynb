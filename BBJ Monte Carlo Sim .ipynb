{
 "cells": [
  {
   "cell_type": "code",
   "execution_count": 1,
   "metadata": {},
   "outputs": [],
   "source": [
    "import numpy as np\n",
    "import random"
   ]
  },
  {
   "cell_type": "markdown",
   "metadata": {},
   "source": [
    "# Value Function\n",
    "3 dimensional array, where first index is \\[cardsum(12 to 21) - 12\\] (_for indexing_); second index is 0 if no usable ace and 1 if any; third index is dealer card \\[(1 to 10)-1\\](_for indexing_)."
   ]
  },
  {
   "cell_type": "code",
   "execution_count": 2,
   "metadata": {},
   "outputs": [],
   "source": [
    "V = np.array([[[0.]*10]*2]*10)\n",
    "visit_count = np.array([[[0.]*10]*2]*10)"
   ]
  },
  {
   "cell_type": "code",
   "execution_count": 3,
   "metadata": {},
   "outputs": [
    {
     "data": {
      "text/plain": [
       "array([[[0., 0., 0., 0., 0., 0., 0., 0., 0., 0.],\n",
       "        [0., 0., 0., 0., 0., 0., 0., 0., 0., 0.]],\n",
       "\n",
       "       [[0., 0., 0., 0., 0., 0., 0., 0., 0., 0.],\n",
       "        [0., 0., 0., 0., 0., 0., 0., 0., 0., 0.]],\n",
       "\n",
       "       [[0., 0., 0., 0., 0., 0., 0., 0., 0., 0.],\n",
       "        [0., 0., 0., 0., 0., 0., 0., 0., 0., 0.]],\n",
       "\n",
       "       [[0., 0., 0., 0., 0., 0., 0., 0., 0., 0.],\n",
       "        [0., 0., 0., 0., 0., 0., 0., 0., 0., 0.]],\n",
       "\n",
       "       [[0., 0., 0., 0., 0., 0., 0., 0., 0., 0.],\n",
       "        [0., 0., 0., 0., 0., 0., 0., 0., 0., 0.]],\n",
       "\n",
       "       [[0., 0., 0., 0., 0., 0., 0., 0., 0., 0.],\n",
       "        [0., 0., 0., 0., 0., 0., 0., 0., 0., 0.]],\n",
       "\n",
       "       [[0., 0., 0., 0., 0., 0., 0., 0., 0., 0.],\n",
       "        [0., 0., 0., 0., 0., 0., 0., 0., 0., 0.]],\n",
       "\n",
       "       [[0., 0., 0., 0., 0., 0., 0., 0., 0., 0.],\n",
       "        [0., 0., 0., 0., 0., 0., 0., 0., 0., 0.]],\n",
       "\n",
       "       [[0., 0., 0., 0., 0., 0., 0., 0., 0., 0.],\n",
       "        [0., 0., 0., 0., 0., 0., 0., 0., 0., 0.]],\n",
       "\n",
       "       [[0., 0., 0., 0., 0., 0., 0., 0., 0., 0.],\n",
       "        [0., 0., 0., 0., 0., 0., 0., 0., 0., 0.]]])"
      ]
     },
     "execution_count": 3,
     "metadata": {},
     "output_type": "execute_result"
    }
   ],
   "source": [
    "visit_count"
   ]
  },
  {
   "cell_type": "markdown",
   "metadata": {},
   "source": [
    "# BlackJack Monte-Carlo Strategy"
   ]
  },
  {
   "cell_type": "code",
   "execution_count": 4,
   "metadata": {},
   "outputs": [],
   "source": [
    "def pi_20(hand, dealer_card):\n",
    "    player_sum = sum(hand)\n",
    "    \n",
    "    if 1 in hand and player_sum < 12:\n",
    "            player_sum += 10\n",
    "    \n",
    "    if player_sum < 20:\n",
    "        return 'hit'\n",
    "    else:\n",
    "        return 'stick'"
   ]
  },
  {
   "cell_type": "code",
   "execution_count": 5,
   "metadata": {},
   "outputs": [],
   "source": [
    "def update_values(states, r, V, visit_count):\n",
    "    for h, a, d in states:\n",
    "        V[h][a][d] = V[h][a][d] + (1/visit_count[h][a][d])*(r - V[h][a][d]) "
   ]
  },
  {
   "cell_type": "code",
   "execution_count": 6,
   "metadata": {},
   "outputs": [],
   "source": [
    "array =([(3.1, 2), (2.1, 4)])"
   ]
  },
  {
   "cell_type": "markdown",
   "metadata": {},
   "source": [
    "# One Hand Blackjack Simulator"
   ]
  },
  {
   "cell_type": "code",
   "execution_count": 7,
   "metadata": {},
   "outputs": [],
   "source": [
    "def blackjack_hand_result(V, visit_count):\n",
    "    #Deck of cards, 4 types of 10\n",
    "    \n",
    "    deck=np.array([1,2,3,4,5,6,7,8,9,10,10,10,10])\n",
    "    \n",
    "    #Creating a random hand if none is input\n",
    "    \n",
    "    player_hand=[random.choice(deck), random.choice(deck)]\n",
    "        \n",
    "    dealer_card=random.choice(deck)\n",
    "    \n",
    "    # keeps track of all states that the hand has been in during one play\n",
    "    states = []\n",
    "    \n",
    "    player_sum = sum(player_hand)\n",
    "    \n",
    "    # an ace that can be used as an 11 i.e. the sum of the cards is less than 12\n",
    "    usable_ace = 0\n",
    "    if 1 in player_hand:\n",
    "        usable_ace = 1\n",
    "        player_sum += 10\n",
    "    \n",
    "    \n",
    "    if player_sum > 11:\n",
    "        states.append((player_sum-12, usable_ace, dealer_card-1))\n",
    "        visit_count[player_sum-12][usable_ace][dealer_card-1] += 1\n",
    "        \n",
    "    # keeps track of dealers hand\n",
    "    dealer_cards=[dealer_card]\n",
    "    \n",
    "\n",
    "    # Seeing if player hit blackjack\n",
    "    if player_sum == 21:\n",
    "\n",
    "        #Seeing if casino also hit blackjack, in which case tie\n",
    "\n",
    "        dealer_cards.append(random.choice(deck))\n",
    "        if 1 in (dealer_cards) and sum(dealer_cards)==11:\n",
    "            update_values(states, 0, V, visit_count)\n",
    "            return 0\n",
    "        \n",
    "        update_values(states, 1, V, visit_count)\n",
    "        return 1\n",
    "    \n",
    "\n",
    "    else:\n",
    "    # Seeing how often it says to 'hit'\n",
    "\n",
    "        while pi_20(player_hand, dealer_card) == 'Hit':\n",
    "            #Adding one card for every hit\n",
    "            new_card = random.choice(deck)\n",
    "            player_hand.append(new_card)\n",
    "            \n",
    "            player_sum += new_card\n",
    "            \n",
    "            if new_card == 1 and player_sum < 12:\n",
    "                usable_ace = 1\n",
    "                player_sum += 10\n",
    "            \n",
    "            if usable_ace == 1 and player_sum > 21:\n",
    "                player_sum -= 10\n",
    "                usable_ace == 0\n",
    "\n",
    "            #Player loses bet if hand goes above 21\n",
    "            if player_sum>21:\n",
    "                update_values(states, -1, V, visit_count)\n",
    "                return -1\n",
    "            \n",
    "            if player_sum > 11:\n",
    "                states.append((player_sum-12, usable_ace, dealer_card-1))\n",
    "                visit_count[player_sum-12][usable_ace][dealer_card-1] += 1\n",
    "            \n",
    "    while True:\n",
    "        #Plays out the blackjack hand from dealer's side\n",
    "\n",
    "        #Give dealer extra card if loop hasn't broken\n",
    "        dealer_cards.append(random.choice(deck))\n",
    "\n",
    "\n",
    "        #Keep track of sum of dealer's cards\n",
    "        dealer_score= sum(dealer_cards)\n",
    "\n",
    "        #Keep track of soft score if dealer has an ace\n",
    "\n",
    "        soft_score= dealer_score\n",
    "        if dealer_score<=11 and 1 in dealer_cards:\n",
    "            soft_score+=10\n",
    "\n",
    "        #If dealer gets blackjack you lose even if you have 21\n",
    "        if len(dealer_cards)==2 and soft_score==21:\n",
    "            return -1\n",
    "        \n",
    "        #Dealer stays on all 17s\n",
    "        if soft_score>=17:\n",
    "\n",
    "            #If dealer bust, player wins bet\n",
    "            if soft_score>21:\n",
    "                update_values(states, 1, V, visit_count)\n",
    "                return 1\n",
    "\n",
    "            #If player has more than dealer, player wins bet\n",
    "            if player_sum>soft_score:\n",
    "                update_values(states, 1, V, visit_count)\n",
    "                return 1\n",
    "\n",
    "            #Tie means no money changes hands\n",
    "            if player_sum==soft_score:\n",
    "                update_values(states, 0, V, visit_count)\n",
    "                return 0\n",
    "\n",
    "            #If player has lower, player loses bet\n",
    "            if player_sum<soft_score:\n",
    "                update_values(states, -1, V, visit_count)\n",
    "                return -1\n"
   ]
  },
  {
   "cell_type": "markdown",
   "metadata": {},
   "source": [
    "# Multiple Hand Sim, Test to see house edge in Blackjack"
   ]
  },
  {
   "cell_type": "code",
   "execution_count": 8,
   "metadata": {},
   "outputs": [],
   "source": [
    "def blackjack_sim(n_hands, V, visit_count):\n",
    "    for i in range(n_hands):\n",
    "        blackjack_hand_result(V, visit_count)\n",
    "     "
   ]
  },
  {
   "cell_type": "code",
   "execution_count": 9,
   "metadata": {
    "scrolled": false
   },
   "outputs": [
    {
     "data": {
      "text/plain": [
       "array([[[-5.78782779e-01, -3.59331476e-01, -2.80653951e-01,\n",
       "         -1.62393162e-01, -1.45510836e-01, -2.66272189e-01,\n",
       "         -5.05681818e-01, -5.24096386e-01, -5.63157895e-01,\n",
       "         -5.76387928e-01],\n",
       "        [-7.75282588e-01, -4.66666667e-01, -5.00000000e-01,\n",
       "         -2.00000000e-01, -7.69230769e-02, -4.00000000e-02,\n",
       "         -4.00000000e-02, -5.38461538e-01, -6.00000000e-01,\n",
       "         -4.83036204e-01]],\n",
       "\n",
       "       [[-6.63274407e-01, -3.33333333e-01, -2.68456376e-01,\n",
       "         -2.56578947e-01, -2.58064516e-01, -2.34421365e-01,\n",
       "         -4.13897281e-01, -5.66197183e-01, -6.15894040e-01,\n",
       "         -5.48383820e-01],\n",
       "        [-6.97334828e-01, -4.28571429e-01, -2.91666667e-01,\n",
       "         -3.33333333e-01, -1.81818182e-02,  2.12765957e-02,\n",
       "         -3.50000000e-01, -5.17241379e-01, -4.04255319e-01,\n",
       "         -5.94792159e-01]],\n",
       "\n",
       "       [[-6.83638634e-01, -2.45161290e-01, -2.67123288e-01,\n",
       "         -1.92982456e-01, -1.84466019e-01, -1.71314741e-01,\n",
       "         -5.71906355e-01, -4.71830986e-01, -5.73770492e-01,\n",
       "         -4.98535313e-01],\n",
       "        [-8.36597894e-01, -2.09302326e-01, -1.69811321e-01,\n",
       "         -3.13432836e-01,  1.06382979e-01,  8.57142857e-02,\n",
       "         -5.12195122e-01, -5.51724138e-01, -5.00000000e-01,\n",
       "         -5.60827870e-01]],\n",
       "\n",
       "       [[-6.89307224e-01, -3.01818182e-01, -1.86666667e-01,\n",
       "         -2.32000000e-01, -1.87969925e-01, -2.24637681e-01,\n",
       "         -4.66666667e-01, -5.13698630e-01, -6.01562500e-01,\n",
       "         -5.13505703e-01],\n",
       "        [-5.20905825e-01, -1.70731707e-01, -2.17391304e-01,\n",
       "         -4.14634146e-01, -2.38095238e-01, -1.48936170e-01,\n",
       "         -6.15384615e-01, -3.87755102e-01, -5.15151515e-01,\n",
       "         -4.61805875e-01]],\n",
       "\n",
       "       [[-5.30241112e-01, -3.33333333e-01, -1.80076628e-01,\n",
       "         -2.77108434e-01, -9.40766551e-02, -1.14754098e-01,\n",
       "         -5.13307985e-01, -5.81227437e-01, -6.25468165e-01,\n",
       "         -5.33955290e-01],\n",
       "        [-5.76119691e-01, -2.22222222e-01, -2.12765957e-02,\n",
       "         -3.19148936e-01, -2.60869565e-01, -2.45901639e-01,\n",
       "         -3.71428571e-01, -2.30769231e-01, -6.07843137e-01,\n",
       "         -5.29484928e-01]],\n",
       "\n",
       "       [[-4.81692934e-01, -1.23931624e-01, -7.17488789e-02,\n",
       "          5.64516129e-02, -1.60869565e-01,  5.08474576e-02,\n",
       "         -1.58995816e-01, -4.39130435e-01, -3.30708661e-01,\n",
       "         -4.00206038e-01],\n",
       "        [-2.34575120e-01, -1.00000000e-01, -2.58064516e-01,\n",
       "         -9.75609756e-02,  4.16666667e-02, -1.91489362e-01,\n",
       "         -6.93889390e-18, -2.44897959e-01, -3.87755102e-01,\n",
       "         -4.02093251e-01]],\n",
       "\n",
       "       [[ 2.50334457e-02,  1.00000000e-01,  7.17703349e-02,\n",
       "          1.60621762e-01,  1.90721649e-01,  2.01030928e-01,\n",
       "          3.64055300e-01,  1.60220994e-01, -1.93548387e-01,\n",
       "         -1.53269188e-01],\n",
       "        [-3.64531315e-01,  1.62790698e-01,  4.16666667e-02,\n",
       "          3.19148936e-01,  3.33333333e-01,  1.48148148e-01,\n",
       "          4.37500000e-01,  4.16666667e-02, -2.04545455e-01,\n",
       "         -2.38780715e-01]],\n",
       "\n",
       "       [[ 2.95385303e-01,  3.42696629e-01,  4.94680851e-01,\n",
       "          5.38461538e-01,  3.98989899e-01,  5.20000000e-01,\n",
       "          5.56886228e-01,  5.62130178e-01,  2.46753247e-01,\n",
       "          4.52355309e-02],\n",
       "        [ 5.71866737e-02,  3.72881356e-01,  5.63636364e-01,\n",
       "          5.21739130e-01,  4.63414634e-01,  7.31707317e-01,\n",
       "          6.72727273e-01,  7.56097561e-01,  6.06060606e-02,\n",
       "          5.32974009e-02]],\n",
       "\n",
       "       [[ 6.46122978e-01,  5.97333333e-01,  6.18768328e-01,\n",
       "          6.04519774e-01,  6.51090343e-01,  7.21448468e-01,\n",
       "          7.71208226e-01,  7.93956044e-01,  7.83098592e-01,\n",
       "          5.59802925e-01],\n",
       "        [ 5.56826979e-01,  6.48648649e-01,  5.00000000e-01,\n",
       "          7.20930233e-01,  8.36363636e-01,  8.86363636e-01,\n",
       "          8.62745098e-01,  5.75757576e-01,  8.12500000e-01,\n",
       "          5.24907581e-01]],\n",
       "\n",
       "       [[ 0.00000000e+00,  0.00000000e+00,  0.00000000e+00,\n",
       "          0.00000000e+00,  0.00000000e+00,  0.00000000e+00,\n",
       "          0.00000000e+00,  0.00000000e+00,  0.00000000e+00,\n",
       "          0.00000000e+00],\n",
       "        [ 6.59898477e-01,  1.00000000e+00,  1.00000000e+00,\n",
       "          1.00000000e+00,  1.00000000e+00,  1.00000000e+00,\n",
       "          1.00000000e+00,  1.00000000e+00,  1.00000000e+00,\n",
       "          9.25352113e-01]]])"
      ]
     },
     "execution_count": 9,
     "metadata": {},
     "output_type": "execute_result"
    }
   ],
   "source": [
    "blackjack_sim(50_000, V, visit_count)\n",
    "V"
   ]
  },
  {
   "cell_type": "code",
   "execution_count": 10,
   "metadata": {},
   "outputs": [
    {
     "ename": "TypeError",
     "evalue": "blackjack_sim() got an unexpected keyword argument 'bet'",
     "output_type": "error",
     "traceback": [
      "\u001b[1;31m---------------------------------------------------------------------------\u001b[0m",
      "\u001b[1;31mTypeError\u001b[0m                                 Traceback (most recent call last)",
      "\u001b[1;32m<ipython-input-10-00e50e9aeb64>\u001b[0m in \u001b[0;36m<module>\u001b[1;34m()\u001b[0m\n\u001b[0;32m      1\u001b[0m \u001b[1;31m#Simulates a million hands to estimate house edge\u001b[0m\u001b[1;33m\u001b[0m\u001b[1;33m\u001b[0m\u001b[0m\n\u001b[1;32m----> 2\u001b[1;33m \u001b[0mhouse_edge\u001b[0m\u001b[1;33m=\u001b[0m\u001b[1;33m-\u001b[0m\u001b[1;36m100\u001b[0m\u001b[1;33m*\u001b[0m\u001b[1;33m(\u001b[0m\u001b[0mblackjack_sim\u001b[0m\u001b[1;33m(\u001b[0m\u001b[0mn_hands\u001b[0m\u001b[1;33m=\u001b[0m\u001b[1;36m1_000_000\u001b[0m\u001b[1;33m,\u001b[0m \u001b[0mbet\u001b[0m\u001b[1;33m=\u001b[0m\u001b[1;36m1\u001b[0m\u001b[1;33m)\u001b[0m \u001b[1;33m/\u001b[0m \u001b[1;36m1_000_000\u001b[0m\u001b[1;33m)\u001b[0m\u001b[1;33m\u001b[0m\u001b[0m\n\u001b[0m\u001b[0;32m      3\u001b[0m \u001b[0mhouse_edge\u001b[0m \u001b[1;31m#percentage\u001b[0m\u001b[1;33m\u001b[0m\u001b[0m\n",
      "\u001b[1;31mTypeError\u001b[0m: blackjack_sim() got an unexpected keyword argument 'bet'"
     ]
    }
   ],
   "source": [
    "#Simulates a million hands to estimate house edge\n",
    "house_edge=-100*(blackjack_sim(n_hands=1_000_000, bet=1) / 1_000_000)\n",
    "house_edge #percentage"
   ]
  },
  {
   "cell_type": "markdown",
   "metadata": {},
   "source": [
    "# Strategy Test: Double 7 vs 6"
   ]
  },
  {
   "cell_type": "code",
   "execution_count": null,
   "metadata": {},
   "outputs": [],
   "source": [
    "#Player profit from following basic strategy\n",
    "blackjack_sim(n_hands=100_000, player_h=[4,3], dealer_c=6, bet=1)\n"
   ]
  },
  {
   "cell_type": "code",
   "execution_count": null,
   "metadata": {},
   "outputs": [],
   "source": [
    "blackjack_sim(n_hands=100_000, player_h=[4,3], dealer_c=6, bet=1, hard_c='Double')\n"
   ]
  },
  {
   "cell_type": "markdown",
   "metadata": {},
   "source": [
    "# Strategy Test: Split 10s vs 6"
   ]
  },
  {
   "cell_type": "code",
   "execution_count": null,
   "metadata": {},
   "outputs": [],
   "source": [
    "blackjack_sim(n_hands=100_000, player_h=[10,10], dealer_c=6, bet=1)\n"
   ]
  },
  {
   "cell_type": "code",
   "execution_count": null,
   "metadata": {},
   "outputs": [],
   "source": [
    "blackjack_sim(n_hands=100_000, player_h=[10,10], dealer_c=6, bet=1, hard_c='Split')\n"
   ]
  },
  {
   "cell_type": "code",
   "execution_count": null,
   "metadata": {},
   "outputs": [],
   "source": []
  }
 ],
 "metadata": {
  "kernelspec": {
   "display_name": "Python 3",
   "language": "python",
   "name": "python3"
  },
  "language_info": {
   "codemirror_mode": {
    "name": "ipython",
    "version": 3
   },
   "file_extension": ".py",
   "mimetype": "text/x-python",
   "name": "python",
   "nbconvert_exporter": "python",
   "pygments_lexer": "ipython3",
   "version": "3.7.0"
  }
 },
 "nbformat": 4,
 "nbformat_minor": 2
}
