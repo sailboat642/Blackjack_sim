{
 "cells": [
  {
   "cell_type": "code",
   "execution_count": 8,
   "metadata": {},
   "outputs": [],
   "source": [
    "import numpy as np\n",
    "import random"
   ]
  },
  {
   "cell_type": "markdown",
   "metadata": {},
   "source": [
    "# Basic Blackjack Strategy Function\n",
    "\n",
    "### Not using this for the Monte-carlo Evaluation"
   ]
  },
  {
   "cell_type": "code",
   "execution_count": 9,
   "metadata": {},
   "outputs": [],
   "source": [
    "def BlackJackStrategy(hand, dealer_card):\n",
    "    hard_count=sum(hand)\n",
    "    cards=len(hand)\n",
    "    aces_count= 1*(1 in hand)\n",
    "    soft_count=hard_count\n",
    "    good_cards=[1,7,8,9,10]\n",
    "    \n",
    "    if cards<2:\n",
    "        return 'Not enough cards'\n",
    "    \n",
    "    if hard_count<=11:\n",
    "        soft_count= hard_count + 10*aces_count\n",
    "        \n",
    "    if cards==2 and soft_count==21:\n",
    "        return 'Blackjack'\n",
    "    \n",
    "    \n",
    "    if soft_count>=19:\n",
    "        return 'Stay'\n",
    "    \n",
    "    if hand==[9,9] and dealer_card not in [1,7,10]:\n",
    "        return 'Split'\n",
    "    \n",
    "    if hard_count>=17 :\n",
    "        return 'Stay'\n",
    "\n",
    "    \n",
    "    if cards>2:\n",
    "        if hard_count==soft_count:\n",
    "            if hard_count<=11:\n",
    "                return 'Hit'\n",
    "\n",
    "            if hard_count==12 and dealer_card <=3:\n",
    "                return 'Hit'\n",
    "\n",
    "            if dealer_card in good_cards:\n",
    "                return 'Hit'\n",
    "\n",
    "            return 'Stay'\n",
    "        \n",
    "        \n",
    "        if soft_count<=17:\n",
    "            return 'Hit'\n",
    "        \n",
    "        if soft_count==18 and dealer_card in [1,9,10]:\n",
    "            return 'Hit'\n",
    "        \n",
    "        \n",
    "        \n",
    "        return 'Stay'\n",
    "    \n",
    "            \n",
    "        \n",
    "    \n",
    "    if cards==2:\n",
    "        \n",
    "        if hand[0]==hand[1]:\n",
    "            card= hand[0]\n",
    "            \n",
    "            if card==1:\n",
    "                return 'Split'\n",
    "            \n",
    "            if card==8 and dealer_card!=1:\n",
    "                return 'Split'\n",
    "            \n",
    "            if card in [2,3,7] and dealer_card not in [1,8,9,10]:\n",
    "                return 'Split'\n",
    "            \n",
    "            if card==6 and dealer_card not in good_cards:\n",
    "                return 'Split'\n",
    "            \n",
    "            if card==4 and dealer_card in [5,6]:\n",
    "                return 'Split'\n",
    "            \n",
    "        if hard_count==soft_count:\n",
    "            \n",
    "            if hard_count==11 and dealer_card!=1:\n",
    "                return 'Double'\n",
    "            \n",
    "            if hard_count==10 and dealer_card not in [1,10]:\n",
    "                return 'Double'\n",
    "            \n",
    "            if hard_count==9 and dealer_card not in ([2]+ good_cards):\n",
    "                return 'Double'\n",
    "            \n",
    "            if hard_count<=11:\n",
    "                return 'Hit'\n",
    "\n",
    "            if hard_count==12 and dealer_card <=3:\n",
    "                return 'Hit'\n",
    "\n",
    "            if dealer_card in good_cards:\n",
    "                return 'Hit'\n",
    "\n",
    "            return 'Stay'\n",
    "            \n",
    "        \n",
    "        if hard_count!=soft_count:\n",
    "            \n",
    "\n",
    "                \n",
    "            if soft_count==18:\n",
    "                \n",
    "                if dealer_card not in ([2]+good_cards):\n",
    "                    return 'Double'\n",
    "                \n",
    "                if dealer_card in [2,7,8]:\n",
    "                    return 'Stay'\n",
    "                \n",
    "            if soft_count==17 and dealer_card in [3,4,5,6]:\n",
    "                return 'Double'\n",
    "            \n",
    "            if soft_count in [15,16] and dealer_card in [4,5,6]:\n",
    "                return 'Double'\n",
    "            \n",
    "            if soft_count in [13,14] and dealer_card in [5,6]:\n",
    "                return 'Double'\n",
    "            \n",
    "            return 'Hit'\n",
    "                \n",
    "                \n",
    "    \n",
    "    "
   ]
  },
  {
   "cell_type": "code",
   "execution_count": 10,
   "metadata": {},
   "outputs": [
    {
     "data": {
      "text/plain": [
       "'Hit'"
      ]
     },
     "execution_count": 10,
     "metadata": {},
     "output_type": "execute_result"
    }
   ],
   "source": [
    "BlackJackStrategy([6,5], 1)"
   ]
  },
  {
   "cell_type": "markdown",
   "metadata": {},
   "source": [
    "# Value Function\n",
    "3 dimensional array, where first index is \\[cardsum(12 to 21) - 12\\] (_for indexing_); second index is 0 if no usable ace and 1 if any; third index is dealer card \\[(1 to 10)-1\\](_for indexing_)."
   ]
  },
  {
   "cell_type": "code",
   "execution_count": 68,
   "metadata": {},
   "outputs": [],
   "source": [
    "V = np.array([[[0.]*10]*2]*10)\n",
    "visit_count = np.array([[[0.]*10]*2]*10)"
   ]
  },
  {
   "cell_type": "code",
   "execution_count": 54,
   "metadata": {},
   "outputs": [
    {
     "data": {
      "text/plain": [
       "array([[[0., 0., 0., 0., 0., 0., 0., 0., 0., 0.],\n",
       "        [0., 0., 0., 0., 0., 0., 0., 0., 0., 0.]],\n",
       "\n",
       "       [[0., 0., 0., 0., 0., 0., 0., 0., 0., 0.],\n",
       "        [0., 0., 0., 0., 0., 0., 0., 0., 0., 0.]],\n",
       "\n",
       "       [[0., 0., 0., 0., 0., 0., 0., 0., 0., 0.],\n",
       "        [0., 0., 0., 0., 0., 0., 0., 0., 0., 0.]],\n",
       "\n",
       "       [[0., 0., 0., 0., 0., 0., 0., 0., 0., 0.],\n",
       "        [0., 0., 0., 0., 0., 0., 0., 0., 0., 0.]],\n",
       "\n",
       "       [[0., 0., 0., 0., 0., 0., 0., 0., 0., 0.],\n",
       "        [0., 0., 0., 0., 0., 0., 0., 0., 0., 0.]],\n",
       "\n",
       "       [[0., 0., 0., 0., 0., 0., 0., 0., 0., 0.],\n",
       "        [0., 0., 0., 0., 0., 0., 0., 0., 0., 0.]],\n",
       "\n",
       "       [[0., 0., 0., 0., 0., 0., 0., 0., 0., 0.],\n",
       "        [0., 0., 0., 0., 0., 0., 0., 0., 0., 0.]],\n",
       "\n",
       "       [[0., 0., 0., 0., 0., 0., 0., 0., 0., 0.],\n",
       "        [0., 0., 0., 0., 0., 0., 0., 0., 0., 0.]],\n",
       "\n",
       "       [[0., 0., 0., 0., 0., 0., 0., 0., 0., 0.],\n",
       "        [0., 0., 0., 0., 0., 0., 0., 0., 0., 0.]],\n",
       "\n",
       "       [[0., 0., 0., 0., 0., 0., 0., 0., 0., 0.],\n",
       "        [0., 0., 0., 0., 0., 0., 0., 0., 0., 0.]]])"
      ]
     },
     "execution_count": 54,
     "metadata": {},
     "output_type": "execute_result"
    }
   ],
   "source": [
    "visit_count"
   ]
  },
  {
   "cell_type": "markdown",
   "metadata": {},
   "source": [
    "# BlackJack Monte-Carlo Strategy"
   ]
  },
  {
   "cell_type": "code",
   "execution_count": 65,
   "metadata": {},
   "outputs": [],
   "source": [
    "def pi_20(hand, dealer_card):\n",
    "    player_sum = sum(hand)\n",
    "    \n",
    "    if 1 in hand and player_sum < 12:\n",
    "            player_sum += 10\n",
    "    \n",
    "    if player_sum < 20:\n",
    "        return 'hit'\n",
    "    else:\n",
    "        return 'stick'"
   ]
  },
  {
   "cell_type": "code",
   "execution_count": 57,
   "metadata": {},
   "outputs": [],
   "source": [
    "def update_values(states, r, V, visit_count):\n",
    "    for h, a, d in states:\n",
    "        V[h][a][d] = V[h][a][d] + (1/visit_count[h][a][d])*(r - V[h][a][d]) "
   ]
  },
  {
   "cell_type": "code",
   "execution_count": 1,
   "metadata": {},
   "outputs": [],
   "source": [
    "array =([(3.1, 2), (2.1, 4)])"
   ]
  },
  {
   "cell_type": "markdown",
   "metadata": {},
   "source": [
    "# One Hand Blackjack Simulator"
   ]
  },
  {
   "cell_type": "code",
   "execution_count": 63,
   "metadata": {},
   "outputs": [],
   "source": [
    "def blackjack_hand_result(V, visit_count):\n",
    "    #Deck of cards, 4 types of 10\n",
    "    \n",
    "    deck=np.array([1,2,3,4,5,6,7,8,9,10,10,10,10])\n",
    "    \n",
    "    #Creating a random hand if none is input\n",
    "    \n",
    "    player_hand=[random.choice(deck), random.choice(deck)]\n",
    "        \n",
    "    dealer_card=random.choice(deck)\n",
    "    \n",
    "    # keeps track of all states that the hand has been in during one play\n",
    "    states = []\n",
    "    \n",
    "    player_sum = sum(player_hand)\n",
    "    \n",
    "    # an ace that can be used as an 11 i.e. the sum of the cards is less than 12\n",
    "    usable_ace = 0\n",
    "    if 1 in player_hand:\n",
    "        usable_ace = 1\n",
    "        player_sum += 10\n",
    "    \n",
    "    \n",
    "    if player_sum > 11:\n",
    "        states.append((player_sum-12, usable_ace, dealer_card-1))\n",
    "        visit_count[player_sum-12][usable_ace][dealer_card-1] += 1\n",
    "        \n",
    "    # keeps track of dealers hand\n",
    "    dealer_cards=[dealer_card]\n",
    "    \n",
    "\n",
    "    # Seeing if player hit blackjack\n",
    "    if player_sum == 21:\n",
    "\n",
    "        #Seeing if casino also hit blackjack, in which case tie\n",
    "\n",
    "        dealer_cards.append(random.choice(deck))\n",
    "        if 1 in (dealer_cards) and sum(dealer_cards)==11:\n",
    "            update_values(states, 0, V, visit_count)\n",
    "            return 0\n",
    "        \n",
    "        update_values(states, 1, V, visit_count)\n",
    "        return 1\n",
    "    \n",
    "\n",
    "    else:\n",
    "    # Seeing how often it says to 'hit'\n",
    "\n",
    "        while pi_20(player_hand, dealer_card) == 'Hit':\n",
    "            #Adding one card for every hit\n",
    "            new_card = random.choice(deck)\n",
    "            player_hand.append(new_card)\n",
    "            \n",
    "            player_sum += new_card\n",
    "            \n",
    "            if new_card == 1 and player_sum < 12:\n",
    "                usable_ace = 1\n",
    "                player_sum += 10\n",
    "            \n",
    "            if usable_ace == 1 and player_sum > 21:\n",
    "                player_sum -= 10\n",
    "                usable_ace == 0\n",
    "\n",
    "            #Player loses bet if hand goes above 21\n",
    "            if player_sum>21:\n",
    "                update_values(states, -1, V, visit_count)\n",
    "                return -1\n",
    "            \n",
    "            if player_sum > 11:\n",
    "                states.append((player_sum-12, usable_ace, dealer_card-1))\n",
    "                visit_count[player_sum-12][usable_ace][dealer_card-1] += 1\n",
    "            \n",
    "    while True:\n",
    "        #Plays out the blackjack hand from dealer's side\n",
    "\n",
    "        #Give dealer extra card if loop hasn't broken\n",
    "        dealer_cards.append(random.choice(deck))\n",
    "\n",
    "\n",
    "        #Keep track of sum of dealer's cards\n",
    "        dealer_score= sum(dealer_cards)\n",
    "\n",
    "        #Keep track of soft score if dealer has an ace\n",
    "\n",
    "        soft_score= dealer_score\n",
    "        if dealer_score<=11 and 1 in dealer_cards:\n",
    "            soft_score+=10\n",
    "\n",
    "        #If dealer gets blackjack you lose even if you have 21\n",
    "        if len(dealer_cards)==2 and soft_score==21:\n",
    "            return -1\n",
    "        \n",
    "        #Dealer stays on all 17s\n",
    "        if soft_score>=17:\n",
    "\n",
    "            #If dealer bust, player wins bet\n",
    "            if soft_score>21:\n",
    "                update_values(states, 1, V, visit_count)\n",
    "                return 1\n",
    "\n",
    "            #If player has more than dealer, player wins bet\n",
    "            if player_sum>soft_score:\n",
    "                update_values(states, 1, V, visit_count)\n",
    "                return 1\n",
    "\n",
    "            #Tie means no money changes hands\n",
    "            if player_sum==soft_score:\n",
    "                update_values(states, 0, V, visit_count)\n",
    "                return 0\n",
    "\n",
    "            #If player has lower, player loses bet\n",
    "            if player_sum<soft_score:\n",
    "                update_values(states, -1, V, visit_count)\n",
    "                return -1\n"
   ]
  },
  {
   "cell_type": "markdown",
   "metadata": {},
   "source": [
    "# Multiple Hand Sim, Test to see house edge in Blackjack"
   ]
  },
  {
   "cell_type": "code",
   "execution_count": 29,
   "metadata": {},
   "outputs": [],
   "source": [
    "def blackjack_sim(n_hands, V, visit_count):\n",
    "    for i in range(n_hands):\n",
    "        blackjack_hand_result(V, visit_count)\n",
    "     "
   ]
  },
  {
   "cell_type": "code",
   "execution_count": 70,
   "metadata": {
    "scrolled": false
   },
   "outputs": [
    {
     "data": {
      "text/plain": [
       "array([[[-6.64080068e-01, -2.72727273e-01, -2.65129683e-01,\n",
       "         -2.30283912e-01, -2.03566122e-01, -2.27972028e-01,\n",
       "         -4.23423423e-01, -5.35269710e-01, -4.77888730e-01,\n",
       "         -5.53547309e-01],\n",
       "        [-7.35301242e-01, -1.73913043e-01, -2.50000000e-01,\n",
       "         -1.17647059e-01, -2.70270270e-02, -2.42861287e-17,\n",
       "         -5.90909091e-01, -4.57627119e-01, -4.35897436e-01,\n",
       "         -6.35529911e-01]],\n",
       "\n",
       "       [[-7.58184161e-01, -3.11077390e-01, -2.68221574e-01,\n",
       "         -2.14953271e-01, -9.92366412e-02, -1.30568356e-01,\n",
       "         -4.51355662e-01, -5.26645768e-01, -5.64648118e-01,\n",
       "         -5.54226106e-01],\n",
       "        [-8.13538149e-01, -3.13131313e-01, -1.23595506e-01,\n",
       "         -2.16494845e-01, -1.90476190e-01, -3.33333333e-01,\n",
       "         -4.72527473e-01, -4.70588235e-01, -4.41860465e-01,\n",
       "         -5.56738851e-01]],\n",
       "\n",
       "       [[-6.28540271e-01, -3.03602058e-01, -2.24699828e-01,\n",
       "         -1.62251656e-01, -1.38408304e-01, -2.07407407e-01,\n",
       "         -4.67554077e-01, -4.24703892e-01, -5.04731861e-01,\n",
       "         -5.33666574e-01],\n",
       "        [-5.06552330e-01, -1.95402299e-01, -3.65853659e-01,\n",
       "         -2.64367816e-01, -2.22222222e-01, -8.86075949e-02,\n",
       "         -4.61538462e-01, -4.15730337e-01, -3.65384615e-01,\n",
       "         -4.90288056e-01]],\n",
       "\n",
       "       [[-7.27014639e-01, -3.22638146e-01, -2.30769231e-01,\n",
       "         -2.29656420e-01, -1.50537634e-01, -1.22123894e-01,\n",
       "         -4.35797665e-01, -5.18656716e-01, -4.98207885e-01,\n",
       "         -5.38620842e-01],\n",
       "        [-4.42986579e-01, -3.88888889e-01, -2.53333333e-01,\n",
       "         -2.55319149e-01, -3.06122449e-01, -2.47524752e-01,\n",
       "         -6.58536585e-01, -6.88073394e-01, -5.95238095e-01,\n",
       "         -5.26173482e-01]],\n",
       "\n",
       "       [[-6.26881678e-01, -2.79022403e-01, -2.47933884e-01,\n",
       "         -2.23107570e-01, -1.74074074e-01, -1.28309572e-01,\n",
       "         -5.00000000e-01, -4.96855346e-01, -5.56962025e-01,\n",
       "         -5.41454343e-01],\n",
       "        [-5.05413718e-01, -1.90476190e-01, -3.72093023e-01,\n",
       "         -3.62318841e-01, -7.69230769e-02, -7.69230769e-02,\n",
       "         -3.19587629e-01, -4.68085106e-01, -4.65116279e-01,\n",
       "         -5.60000631e-01]],\n",
       "\n",
       "       [[-4.14383721e-01, -1.25514403e-01, -1.29545455e-01,\n",
       "         -9.38864629e-02, -2.53164557e-02, -7.92079208e-03,\n",
       "         -1.53209110e-01, -3.29741379e-01, -3.89010989e-01,\n",
       "         -4.47758954e-01],\n",
       "        [-5.06696376e-01, -1.94690265e-01, -1.16071429e-01,\n",
       "          4.93827160e-02, -8.53658537e-02,  5.94059406e-02,\n",
       "         -2.52427184e-01, -4.00000000e-01, -4.40366972e-01,\n",
       "         -5.27925429e-01]],\n",
       "\n",
       "       [[-7.95559672e-02,  6.53753027e-02,  1.36950904e-01,\n",
       "          1.17948718e-01,  2.00000000e-01,  2.54716981e-01,\n",
       "          4.05063291e-01,  1.36476427e-01, -2.03703704e-01,\n",
       "         -2.11095761e-01],\n",
       "        [-3.65256361e-01,  1.60000000e-01,  2.58064516e-01,\n",
       "          1.29032258e-01,  2.77227723e-01,  2.63736264e-01,\n",
       "          4.09638554e-01,  2.35955056e-01, -2.79069767e-01,\n",
       "         -1.43168433e-01]],\n",
       "\n",
       "       [[ 3.33579516e-01,  3.95604396e-01,  4.69325153e-01,\n",
       "          4.19270833e-01,  5.14435696e-01,  4.66858790e-01,\n",
       "          5.93023256e-01,  5.76023392e-01,  2.96954315e-01,\n",
       "          5.97415903e-02],\n",
       "        [ 1.91032542e-01,  3.83720930e-01,  4.38356164e-01,\n",
       "          4.14141414e-01,  4.93506494e-01,  4.94845361e-01,\n",
       "          6.74418605e-01,  6.35294118e-01,  2.02247191e-01,\n",
       "          9.40704443e-02]],\n",
       "\n",
       "       [[ 6.09397903e-01,  6.50429799e-01,  6.35239567e-01,\n",
       "          6.61911555e-01,  6.56875834e-01,  7.10106383e-01,\n",
       "          7.86248132e-01,  7.50350631e-01,  7.70580297e-01,\n",
       "          5.47400566e-01],\n",
       "        [ 6.02610298e-01,  6.56862745e-01,  6.27659574e-01,\n",
       "          7.24489796e-01,  6.28865979e-01,  7.09677419e-01,\n",
       "          8.50000000e-01,  7.68292683e-01,  7.93103448e-01,\n",
       "          5.61634908e-01]],\n",
       "\n",
       "       [[ 0.00000000e+00,  0.00000000e+00,  0.00000000e+00,\n",
       "          0.00000000e+00,  0.00000000e+00,  0.00000000e+00,\n",
       "          0.00000000e+00,  0.00000000e+00,  0.00000000e+00,\n",
       "          0.00000000e+00],\n",
       "        [ 6.78100264e-01,  1.00000000e+00,  1.00000000e+00,\n",
       "          1.00000000e+00,  1.00000000e+00,  1.00000000e+00,\n",
       "          1.00000000e+00,  1.00000000e+00,  1.00000000e+00,\n",
       "          9.13513514e-01]]])"
      ]
     },
     "execution_count": 70,
     "metadata": {},
     "output_type": "execute_result"
    }
   ],
   "source": [
    "blackjack_sim(50_000, V, visit_count)\n",
    "V"
   ]
  },
  {
   "cell_type": "code",
   "execution_count": 11,
   "metadata": {},
   "outputs": [
    {
     "ename": "TypeError",
     "evalue": "blackjack_sim() got an unexpected keyword argument 'bet'",
     "output_type": "error",
     "traceback": [
      "\u001b[1;31m---------------------------------------------------------------------------\u001b[0m",
      "\u001b[1;31mTypeError\u001b[0m                                 Traceback (most recent call last)",
      "\u001b[1;32m<ipython-input-11-00e50e9aeb64>\u001b[0m in \u001b[0;36m<module>\u001b[1;34m()\u001b[0m\n\u001b[0;32m      1\u001b[0m \u001b[1;31m#Simulates a million hands to estimate house edge\u001b[0m\u001b[1;33m\u001b[0m\u001b[1;33m\u001b[0m\u001b[0m\n\u001b[1;32m----> 2\u001b[1;33m \u001b[0mhouse_edge\u001b[0m\u001b[1;33m=\u001b[0m\u001b[1;33m-\u001b[0m\u001b[1;36m100\u001b[0m\u001b[1;33m*\u001b[0m\u001b[1;33m(\u001b[0m\u001b[0mblackjack_sim\u001b[0m\u001b[1;33m(\u001b[0m\u001b[0mn_hands\u001b[0m\u001b[1;33m=\u001b[0m\u001b[1;36m1_000_000\u001b[0m\u001b[1;33m,\u001b[0m \u001b[0mbet\u001b[0m\u001b[1;33m=\u001b[0m\u001b[1;36m1\u001b[0m\u001b[1;33m)\u001b[0m \u001b[1;33m/\u001b[0m \u001b[1;36m1_000_000\u001b[0m\u001b[1;33m)\u001b[0m\u001b[1;33m\u001b[0m\u001b[0m\n\u001b[0m\u001b[0;32m      3\u001b[0m \u001b[0mhouse_edge\u001b[0m \u001b[1;31m#percentage\u001b[0m\u001b[1;33m\u001b[0m\u001b[0m\n",
      "\u001b[1;31mTypeError\u001b[0m: blackjack_sim() got an unexpected keyword argument 'bet'"
     ]
    }
   ],
   "source": [
    "#Simulates a million hands to estimate house edge\n",
    "house_edge=-100*(blackjack_sim(n_hands=1_000_000, bet=1) / 1_000_000)\n",
    "house_edge #percentage"
   ]
  },
  {
   "cell_type": "markdown",
   "metadata": {},
   "source": [
    "# Strategy Test: Double 7 vs 6"
   ]
  },
  {
   "cell_type": "code",
   "execution_count": 10,
   "metadata": {},
   "outputs": [
    {
     "data": {
      "text/plain": [
       "2104"
      ]
     },
     "execution_count": 10,
     "metadata": {},
     "output_type": "execute_result"
    }
   ],
   "source": [
    "#Player profit from following basic strategy\n",
    "blackjack_sim(n_hands=100_000, player_h=[4,3], dealer_c=6, bet=1)\n"
   ]
  },
  {
   "cell_type": "code",
   "execution_count": 11,
   "metadata": {},
   "outputs": [
    {
     "data": {
      "text/plain": [
       "-14626"
      ]
     },
     "execution_count": 11,
     "metadata": {},
     "output_type": "execute_result"
    }
   ],
   "source": [
    "blackjack_sim(n_hands=100_000, player_h=[4,3], dealer_c=6, bet=1, hard_c='Double')\n"
   ]
  },
  {
   "cell_type": "markdown",
   "metadata": {},
   "source": [
    "# Strategy Test: Split 10s vs 6"
   ]
  },
  {
   "cell_type": "code",
   "execution_count": 12,
   "metadata": {},
   "outputs": [
    {
     "data": {
      "text/plain": [
       "70626"
      ]
     },
     "execution_count": 12,
     "metadata": {},
     "output_type": "execute_result"
    }
   ],
   "source": [
    "blackjack_sim(n_hands=100_000, player_h=[10,10], dealer_c=6, bet=1)\n"
   ]
  },
  {
   "cell_type": "code",
   "execution_count": 13,
   "metadata": {},
   "outputs": [
    {
     "data": {
      "text/plain": [
       "60517.5"
      ]
     },
     "execution_count": 13,
     "metadata": {},
     "output_type": "execute_result"
    }
   ],
   "source": [
    "blackjack_sim(n_hands=100_000, player_h=[10,10], dealer_c=6, bet=1, hard_c='Split')\n"
   ]
  },
  {
   "cell_type": "code",
   "execution_count": null,
   "metadata": {},
   "outputs": [],
   "source": []
  }
 ],
 "metadata": {
  "kernelspec": {
   "display_name": "Python 3",
   "language": "python",
   "name": "python3"
  },
  "language_info": {
   "codemirror_mode": {
    "name": "ipython",
    "version": 3
   },
   "file_extension": ".py",
   "mimetype": "text/x-python",
   "name": "python",
   "nbconvert_exporter": "python",
   "pygments_lexer": "ipython3",
   "version": "3.7.0"
  }
 },
 "nbformat": 4,
 "nbformat_minor": 2
}
